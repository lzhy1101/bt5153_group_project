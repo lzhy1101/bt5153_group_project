{
 "cells": [
  {
   "cell_type": "code",
   "execution_count": 1,
   "metadata": {},
   "outputs": [],
   "source": [
    "import pandas as pd\n",
    "import numpy as np\n",
    "import matplotlib.pyplot as plt"
   ]
  },
  {
   "cell_type": "code",
   "execution_count": 2,
   "metadata": {},
   "outputs": [],
   "source": [
    "pd.set_option('display.max_columns', None)"
   ]
  },
  {
   "cell_type": "markdown",
   "metadata": {},
   "source": [
    "# 1 `steam_reviews.csv`"
   ]
  },
  {
   "cell_type": "markdown",
   "metadata": {},
   "source": [
    "## 1.1 Load data"
   ]
  },
  {
   "cell_type": "code",
   "execution_count": 3,
   "metadata": {},
   "outputs": [],
   "source": [
    "steam_review = pd.read_csv('steam_reviews.csv')"
   ]
  },
  {
   "cell_type": "code",
   "execution_count": 4,
   "metadata": {},
   "outputs": [
    {
     "data": {
      "text/plain": [
       "Index(['Unnamed: 0', 'app_id', 'app_name', 'review_id', 'language', 'review',\n",
       "       'timestamp_created', 'timestamp_updated', 'recommended',\n",
       "       'votes_helpful', 'votes_funny', 'weighted_vote_score', 'comment_count',\n",
       "       'steam_purchase', 'received_for_free', 'written_during_early_access',\n",
       "       'author.steamid', 'author.num_games_owned', 'author.num_reviews',\n",
       "       'author.playtime_forever', 'author.playtime_last_two_weeks',\n",
       "       'author.playtime_at_review', 'author.last_played'],\n",
       "      dtype='object')"
      ]
     },
     "execution_count": 4,
     "metadata": {},
     "output_type": "execute_result"
    }
   ],
   "source": [
    "steam_review.columns"
   ]
  },
  {
   "cell_type": "code",
   "execution_count": 5,
   "metadata": {},
   "outputs": [],
   "source": [
    "## Drop columns \n",
    "############################## To be discussed ##############################\n",
    "drop_columns = ['Unnamed: 0',\n",
    "                #'review_id', 'timestamp_created', 'timestamp_updated', \n",
    "                #'steam_purchase', 'received_for_free', \n",
    "                #'written_during_early_access', 'author.last_played'\n",
    "               ]\n",
    "steam_review = steam_review.drop(drop_columns, axis=1)"
   ]
  },
  {
   "cell_type": "code",
   "execution_count": 6,
   "metadata": {},
   "outputs": [
    {
     "data": {
      "text/plain": [
       "21747371"
      ]
     },
     "execution_count": 6,
     "metadata": {},
     "output_type": "execute_result"
    }
   ],
   "source": [
    "steam_review.shape[0]"
   ]
  },
  {
   "cell_type": "code",
   "execution_count": 7,
   "metadata": {},
   "outputs": [],
   "source": [
    "## Select only English, and drop the English column\n",
    "steam_review = steam_review[steam_review.language=='english']\n",
    "steam_review = steam_review.drop('language', axis=1)"
   ]
  },
  {
   "cell_type": "code",
   "execution_count": 8,
   "metadata": {},
   "outputs": [
    {
     "data": {
      "text/plain": [
       "9635437"
      ]
     },
     "execution_count": 8,
     "metadata": {},
     "output_type": "execute_result"
    }
   ],
   "source": [
    "steam_review.shape[0]"
   ]
  },
  {
   "cell_type": "markdown",
   "metadata": {},
   "source": [
    "## 1.2 Check data"
   ]
  },
  {
   "cell_type": "markdown",
   "metadata": {},
   "source": [
    "### NA and empty values"
   ]
  },
  {
   "cell_type": "code",
   "execution_count": 9,
   "metadata": {},
   "outputs": [
    {
     "name": "stdout",
     "output_type": "stream",
     "text": [
      "app_id                                0\n",
      "app_name                              0\n",
      "review_id                             0\n",
      "review                            16750\n",
      "timestamp_created                     0\n",
      "timestamp_updated                     0\n",
      "recommended                           0\n",
      "votes_helpful                         0\n",
      "votes_funny                           0\n",
      "weighted_vote_score                   0\n",
      "comment_count                         0\n",
      "steam_purchase                        0\n",
      "received_for_free                     0\n",
      "written_during_early_access           0\n",
      "author.steamid                        0\n",
      "author.num_games_owned                0\n",
      "author.num_reviews                    0\n",
      "author.playtime_forever               2\n",
      "author.playtime_last_two_weeks        2\n",
      "author.playtime_at_review         11847\n",
      "author.last_played                    2\n",
      "dtype: int64\n"
     ]
    }
   ],
   "source": [
    "print(steam_review.isnull().sum())\n",
    "steam_review.dropna(axis=0, inplace=True)"
   ]
  },
  {
   "cell_type": "code",
   "execution_count": 10,
   "metadata": {},
   "outputs": [
    {
     "data": {
      "text/plain": [
       "9606842"
      ]
     },
     "execution_count": 10,
     "metadata": {},
     "output_type": "execute_result"
    }
   ],
   "source": [
    "steam_review.shape[0]"
   ]
  },
  {
   "cell_type": "markdown",
   "metadata": {},
   "source": [
    "### Duplicate rows"
   ]
  },
  {
   "cell_type": "code",
   "execution_count": 11,
   "metadata": {
    "scrolled": true
   },
   "outputs": [
    {
     "data": {
      "text/plain": [
       "True"
      ]
     },
     "execution_count": 11,
     "metadata": {},
     "output_type": "execute_result"
    }
   ],
   "source": [
    "## Check duplicate rows\n",
    "any(steam_review.duplicated())"
   ]
  },
  {
   "cell_type": "code",
   "execution_count": 12,
   "metadata": {},
   "outputs": [],
   "source": [
    "steam_review.drop_duplicates(inplace=True)"
   ]
  },
  {
   "cell_type": "code",
   "execution_count": 13,
   "metadata": {},
   "outputs": [
    {
     "data": {
      "text/plain": [
       "False"
      ]
     },
     "execution_count": 13,
     "metadata": {},
     "output_type": "execute_result"
    }
   ],
   "source": [
    "any(steam_review.duplicated(['review_id']))"
   ]
  },
  {
   "cell_type": "code",
   "execution_count": 14,
   "metadata": {},
   "outputs": [
    {
     "data": {
      "text/plain": [
       "9552156"
      ]
     },
     "execution_count": 14,
     "metadata": {},
     "output_type": "execute_result"
    }
   ],
   "source": [
    "steam_review.shape[0]"
   ]
  },
  {
   "cell_type": "code",
   "execution_count": 15,
   "metadata": {},
   "outputs": [],
   "source": [
    "#steam_review.to_csv('steam_review_clean.csv', index=False)"
   ]
  },
  {
   "cell_type": "markdown",
   "metadata": {},
   "source": [
    "## 1.3 Filter games and users $\\geq$ threshold"
   ]
  },
  {
   "cell_type": "code",
   "execution_count": 16,
   "metadata": {},
   "outputs": [],
   "source": [
    "n=1\n",
    "m=1\n",
    "\n",
    "N=10\n",
    "M=500\n",
    "\n",
    "steam_review_1 = steam_review\n",
    "\n",
    "while n<N or m<M:\n",
    "    ## Keep users who have enough reviews\n",
    "    group_user = steam_review_1['review_id'].groupby(steam_review_1['author.steamid']).size()\n",
    "    user_list = list(group_user[group_user>=N].index) # enough = one user need to have N reviews\n",
    "    steam_review_1 = steam_review_1[(steam_review_1['author.steamid'].isin(user_list))]\n",
    "    \n",
    "    ## Keep games who have enough users\n",
    "    group_game = steam_review_1['author.steamid'].groupby(steam_review_1['app_id']).size()\n",
    "    game_list = list(group_game[group_game>=M].index) # enough = one game need to have M users\n",
    "    steam_review_1 = steam_review_1[(steam_review_1['app_id'].isin(game_list))]\n",
    "\n",
    "    n = min(steam_review_1['review_id'].groupby(steam_review_1['author.steamid']).size()) # user ~ review\n",
    "    m = min(steam_review_1['author.steamid'].groupby(steam_review_1['app_id']).size()) # game ~ user"
   ]
  },
  {
   "cell_type": "markdown",
   "metadata": {},
   "source": [
    "<hr>"
   ]
  },
  {
   "cell_type": "markdown",
   "metadata": {},
   "source": [
    "# 2 `steam_games.csv`"
   ]
  },
  {
   "cell_type": "markdown",
   "metadata": {},
   "source": [
    "## 2.1 Load data"
   ]
  },
  {
   "cell_type": "code",
   "execution_count": 17,
   "metadata": {},
   "outputs": [],
   "source": [
    "steam_game = pd.read_csv('steam_games.csv')"
   ]
  },
  {
   "cell_type": "markdown",
   "metadata": {},
   "source": [
    "## 2.2 Clean data"
   ]
  },
  {
   "cell_type": "markdown",
   "metadata": {},
   "source": [
    "#### Check duplicate rows"
   ]
  },
  {
   "cell_type": "code",
   "execution_count": 18,
   "metadata": {
    "scrolled": true
   },
   "outputs": [
    {
     "data": {
      "text/plain": [
       "False"
      ]
     },
     "execution_count": 18,
     "metadata": {},
     "output_type": "execute_result"
    }
   ],
   "source": [
    "any(steam_game.duplicated())"
   ]
  },
  {
   "cell_type": "markdown",
   "metadata": {},
   "source": [
    "#### NA values"
   ]
  },
  {
   "cell_type": "code",
   "execution_count": 19,
   "metadata": {},
   "outputs": [],
   "source": [
    "#print(steam_game.shape)\n",
    "#print(steam_game.isnull().sum())\n",
    "#steam_game.dropna(axis=0, inplace=True)\n",
    "#print(steam_game.shape)"
   ]
  },
  {
   "cell_type": "markdown",
   "metadata": {},
   "source": [
    "## 2.3 Column by column"
   ]
  },
  {
   "cell_type": "code",
   "execution_count": 20,
   "metadata": {},
   "outputs": [
    {
     "data": {
      "text/plain": [
       "Index(['url', 'types', 'name', 'desc_snippet', 'recent_reviews', 'all_reviews',\n",
       "       'release_date', 'developer', 'publisher', 'popular_tags',\n",
       "       'game_details', 'languages', 'achievements', 'genre',\n",
       "       'game_description', 'mature_content', 'minimum_requirements',\n",
       "       'recommended_requirements', 'original_price', 'discount_price'],\n",
       "      dtype='object')"
      ]
     },
     "execution_count": 20,
     "metadata": {},
     "output_type": "execute_result"
    }
   ],
   "source": [
    "steam_game.columns"
   ]
  },
  {
   "cell_type": "markdown",
   "metadata": {},
   "source": [
    "### (1) `url` -> `app_id`: Url of the game -> app of the game"
   ]
  },
  {
   "cell_type": "markdown",
   "metadata": {},
   "source": [
    "##### Extract app_id information from URL"
   ]
  },
  {
   "cell_type": "code",
   "execution_count": 21,
   "metadata": {},
   "outputs": [
    {
     "data": {
      "text/html": [
       "<div>\n",
       "<style scoped>\n",
       "    .dataframe tbody tr th:only-of-type {\n",
       "        vertical-align: middle;\n",
       "    }\n",
       "\n",
       "    .dataframe tbody tr th {\n",
       "        vertical-align: top;\n",
       "    }\n",
       "\n",
       "    .dataframe thead th {\n",
       "        text-align: right;\n",
       "    }\n",
       "</style>\n",
       "<table border=\"1\" class=\"dataframe\">\n",
       "  <thead>\n",
       "    <tr style=\"text-align: right;\">\n",
       "      <th></th>\n",
       "      <th>0</th>\n",
       "      <th>1</th>\n",
       "      <th>2</th>\n",
       "      <th>3</th>\n",
       "      <th>4</th>\n",
       "      <th>5</th>\n",
       "      <th>6</th>\n",
       "    </tr>\n",
       "  </thead>\n",
       "  <tbody>\n",
       "    <tr>\n",
       "      <th>0</th>\n",
       "      <td>https:</td>\n",
       "      <td></td>\n",
       "      <td>store.steampowered.com</td>\n",
       "      <td>app</td>\n",
       "      <td>379720</td>\n",
       "      <td>DOOM</td>\n",
       "      <td></td>\n",
       "    </tr>\n",
       "    <tr>\n",
       "      <th>1</th>\n",
       "      <td>https:</td>\n",
       "      <td></td>\n",
       "      <td>store.steampowered.com</td>\n",
       "      <td>app</td>\n",
       "      <td>578080</td>\n",
       "      <td>PLAYERUNKNOWNS_BATTLEGROUNDS</td>\n",
       "      <td></td>\n",
       "    </tr>\n",
       "    <tr>\n",
       "      <th>2</th>\n",
       "      <td>https:</td>\n",
       "      <td></td>\n",
       "      <td>store.steampowered.com</td>\n",
       "      <td>app</td>\n",
       "      <td>637090</td>\n",
       "      <td>BATTLETECH</td>\n",
       "      <td></td>\n",
       "    </tr>\n",
       "  </tbody>\n",
       "</table>\n",
       "</div>"
      ],
      "text/plain": [
       "        0 1                       2    3       4  \\\n",
       "0  https:    store.steampowered.com  app  379720   \n",
       "1  https:    store.steampowered.com  app  578080   \n",
       "2  https:    store.steampowered.com  app  637090   \n",
       "\n",
       "                              5 6  \n",
       "0                          DOOM    \n",
       "1  PLAYERUNKNOWNS_BATTLEGROUNDS    \n",
       "2                    BATTLETECH    "
      ]
     },
     "execution_count": 21,
     "metadata": {},
     "output_type": "execute_result"
    }
   ],
   "source": [
    "expand_url = steam_game['url'].str.split('/', expand=True)\n",
    "expand_url.head(3)"
   ]
  },
  {
   "cell_type": "code",
   "execution_count": 22,
   "metadata": {},
   "outputs": [],
   "source": [
    "steam_game['app_id'] = expand_url.iloc[:,4]"
   ]
  },
  {
   "cell_type": "markdown",
   "metadata": {},
   "source": [
    "##### Delete NA app_id"
   ]
  },
  {
   "cell_type": "code",
   "execution_count": 23,
   "metadata": {
    "scrolled": true
   },
   "outputs": [
    {
     "data": {
      "text/html": [
       "<div>\n",
       "<style scoped>\n",
       "    .dataframe tbody tr th:only-of-type {\n",
       "        vertical-align: middle;\n",
       "    }\n",
       "\n",
       "    .dataframe tbody tr th {\n",
       "        vertical-align: top;\n",
       "    }\n",
       "\n",
       "    .dataframe thead th {\n",
       "        text-align: right;\n",
       "    }\n",
       "</style>\n",
       "<table border=\"1\" class=\"dataframe\">\n",
       "  <thead>\n",
       "    <tr style=\"text-align: right;\">\n",
       "      <th></th>\n",
       "      <th>url</th>\n",
       "      <th>types</th>\n",
       "      <th>name</th>\n",
       "      <th>desc_snippet</th>\n",
       "      <th>recent_reviews</th>\n",
       "      <th>all_reviews</th>\n",
       "      <th>release_date</th>\n",
       "      <th>developer</th>\n",
       "      <th>publisher</th>\n",
       "      <th>popular_tags</th>\n",
       "      <th>game_details</th>\n",
       "      <th>languages</th>\n",
       "      <th>achievements</th>\n",
       "      <th>genre</th>\n",
       "      <th>game_description</th>\n",
       "      <th>mature_content</th>\n",
       "      <th>minimum_requirements</th>\n",
       "      <th>recommended_requirements</th>\n",
       "      <th>original_price</th>\n",
       "      <th>discount_price</th>\n",
       "      <th>app_id</th>\n",
       "    </tr>\n",
       "  </thead>\n",
       "  <tbody>\n",
       "    <tr>\n",
       "      <th>704</th>\n",
       "      <td>https://store.steampowered.com/</td>\n",
       "      <td>NaN</td>\n",
       "      <td>NaN</td>\n",
       "      <td>NaN</td>\n",
       "      <td>NaN</td>\n",
       "      <td>NaN</td>\n",
       "      <td>NaN</td>\n",
       "      <td>NaN</td>\n",
       "      <td>NaN</td>\n",
       "      <td>NaN</td>\n",
       "      <td>NaN</td>\n",
       "      <td>NaN</td>\n",
       "      <td>NaN</td>\n",
       "      <td>NaN</td>\n",
       "      <td>NaN</td>\n",
       "      <td>NaN</td>\n",
       "      <td>NaN</td>\n",
       "      <td>NaN</td>\n",
       "      <td>$29.99</td>\n",
       "      <td>$23.99</td>\n",
       "      <td>None</td>\n",
       "    </tr>\n",
       "  </tbody>\n",
       "</table>\n",
       "</div>"
      ],
      "text/plain": [
       "                                 url types name desc_snippet recent_reviews  \\\n",
       "704  https://store.steampowered.com/   NaN  NaN          NaN            NaN   \n",
       "\n",
       "    all_reviews release_date developer publisher popular_tags game_details  \\\n",
       "704         NaN          NaN       NaN       NaN          NaN          NaN   \n",
       "\n",
       "    languages  achievements genre game_description mature_content  \\\n",
       "704       NaN           NaN   NaN              NaN            NaN   \n",
       "\n",
       "    minimum_requirements recommended_requirements original_price  \\\n",
       "704                  NaN                      NaN         $29.99   \n",
       "\n",
       "    discount_price app_id  \n",
       "704         $23.99   None  "
      ]
     },
     "execution_count": 23,
     "metadata": {},
     "output_type": "execute_result"
    }
   ],
   "source": [
    "## Check NA\n",
    "steam_game[steam_game['app_id'].isnull().T]"
   ]
  },
  {
   "cell_type": "code",
   "execution_count": 24,
   "metadata": {},
   "outputs": [],
   "source": [
    "## Delete NA\n",
    "steam_game.dropna(subset=['app_id'], inplace=True)"
   ]
  },
  {
   "cell_type": "markdown",
   "metadata": {},
   "source": [
    "##### Delete empty app_id"
   ]
  },
  {
   "cell_type": "code",
   "execution_count": 25,
   "metadata": {},
   "outputs": [
    {
     "data": {
      "text/html": [
       "<div>\n",
       "<style scoped>\n",
       "    .dataframe tbody tr th:only-of-type {\n",
       "        vertical-align: middle;\n",
       "    }\n",
       "\n",
       "    .dataframe tbody tr th {\n",
       "        vertical-align: top;\n",
       "    }\n",
       "\n",
       "    .dataframe thead th {\n",
       "        text-align: right;\n",
       "    }\n",
       "</style>\n",
       "<table border=\"1\" class=\"dataframe\">\n",
       "  <thead>\n",
       "    <tr style=\"text-align: right;\">\n",
       "      <th></th>\n",
       "      <th>url</th>\n",
       "      <th>types</th>\n",
       "      <th>name</th>\n",
       "      <th>desc_snippet</th>\n",
       "      <th>recent_reviews</th>\n",
       "      <th>all_reviews</th>\n",
       "      <th>release_date</th>\n",
       "      <th>developer</th>\n",
       "      <th>publisher</th>\n",
       "      <th>popular_tags</th>\n",
       "      <th>game_details</th>\n",
       "      <th>languages</th>\n",
       "      <th>achievements</th>\n",
       "      <th>genre</th>\n",
       "      <th>game_description</th>\n",
       "      <th>mature_content</th>\n",
       "      <th>minimum_requirements</th>\n",
       "      <th>recommended_requirements</th>\n",
       "      <th>original_price</th>\n",
       "      <th>discount_price</th>\n",
       "      <th>app_id</th>\n",
       "    </tr>\n",
       "  </thead>\n",
       "  <tbody>\n",
       "    <tr>\n",
       "      <th>35169</th>\n",
       "      <td>https://store.steampowered.com/digitalgiftcards/</td>\n",
       "      <td>NaN</td>\n",
       "      <td>NaN</td>\n",
       "      <td>NaN</td>\n",
       "      <td>NaN</td>\n",
       "      <td>NaN</td>\n",
       "      <td>NaN</td>\n",
       "      <td>NaN</td>\n",
       "      <td>NaN</td>\n",
       "      <td>NaN</td>\n",
       "      <td>NaN</td>\n",
       "      <td>NaN</td>\n",
       "      <td>NaN</td>\n",
       "      <td>NaN</td>\n",
       "      <td>NaN</td>\n",
       "      <td>NaN</td>\n",
       "      <td>NaN</td>\n",
       "      <td>NaN</td>\n",
       "      <td>NaN</td>\n",
       "      <td>NaN</td>\n",
       "      <td></td>\n",
       "    </tr>\n",
       "  </tbody>\n",
       "</table>\n",
       "</div>"
      ],
      "text/plain": [
       "                                                    url types name  \\\n",
       "35169  https://store.steampowered.com/digitalgiftcards/   NaN  NaN   \n",
       "\n",
       "      desc_snippet recent_reviews all_reviews release_date developer  \\\n",
       "35169          NaN            NaN         NaN          NaN       NaN   \n",
       "\n",
       "      publisher popular_tags game_details languages  achievements genre  \\\n",
       "35169       NaN          NaN          NaN       NaN           NaN   NaN   \n",
       "\n",
       "      game_description mature_content minimum_requirements  \\\n",
       "35169              NaN            NaN                  NaN   \n",
       "\n",
       "      recommended_requirements original_price discount_price app_id  \n",
       "35169                      NaN            NaN            NaN         "
      ]
     },
     "execution_count": 25,
     "metadata": {},
     "output_type": "execute_result"
    }
   ],
   "source": [
    "## Check empty value\n",
    "steam_game[steam_game.app_id=='']"
   ]
  },
  {
   "cell_type": "code",
   "execution_count": 26,
   "metadata": {},
   "outputs": [],
   "source": [
    "## Delete empty value\n",
    "steam_game.drop(axis=0, index=35169, inplace=True)"
   ]
  },
  {
   "cell_type": "markdown",
   "metadata": {},
   "source": [
    "##### Change type to int"
   ]
  },
  {
   "cell_type": "code",
   "execution_count": 27,
   "metadata": {},
   "outputs": [],
   "source": [
    "steam_game['app_id'] = steam_game['app_id'].astype('int')"
   ]
  },
  {
   "cell_type": "markdown",
   "metadata": {},
   "source": [
    "### (2) `type`: app or bundle, delete bundles"
   ]
  },
  {
   "cell_type": "markdown",
   "metadata": {},
   "source": [
    "##### Check the bundle data and delete the column 'type'"
   ]
  },
  {
   "cell_type": "code",
   "execution_count": 28,
   "metadata": {},
   "outputs": [
    {
     "data": {
      "text/html": [
       "<div>\n",
       "<style scoped>\n",
       "    .dataframe tbody tr th:only-of-type {\n",
       "        vertical-align: middle;\n",
       "    }\n",
       "\n",
       "    .dataframe tbody tr th {\n",
       "        vertical-align: top;\n",
       "    }\n",
       "\n",
       "    .dataframe thead th {\n",
       "        text-align: right;\n",
       "    }\n",
       "</style>\n",
       "<table border=\"1\" class=\"dataframe\">\n",
       "  <thead>\n",
       "    <tr style=\"text-align: right;\">\n",
       "      <th></th>\n",
       "      <th>url</th>\n",
       "      <th>types</th>\n",
       "      <th>name</th>\n",
       "      <th>desc_snippet</th>\n",
       "      <th>recent_reviews</th>\n",
       "      <th>all_reviews</th>\n",
       "      <th>release_date</th>\n",
       "      <th>developer</th>\n",
       "      <th>publisher</th>\n",
       "      <th>popular_tags</th>\n",
       "      <th>game_details</th>\n",
       "      <th>languages</th>\n",
       "      <th>achievements</th>\n",
       "      <th>genre</th>\n",
       "      <th>game_description</th>\n",
       "      <th>mature_content</th>\n",
       "      <th>minimum_requirements</th>\n",
       "      <th>recommended_requirements</th>\n",
       "      <th>original_price</th>\n",
       "      <th>discount_price</th>\n",
       "      <th>app_id</th>\n",
       "    </tr>\n",
       "  </thead>\n",
       "  <tbody>\n",
       "    <tr>\n",
       "      <th>5</th>\n",
       "      <td>https://store.steampowered.com/bundle/5699/Gra...</td>\n",
       "      <td>bundle</td>\n",
       "      <td>Grand Theft Auto V: Premium Online Edition</td>\n",
       "      <td>Grand Theft Auto V: Premium Online Edition bundle</td>\n",
       "      <td>NaN</td>\n",
       "      <td>NaN</td>\n",
       "      <td>NaN</td>\n",
       "      <td>Rockstar North</td>\n",
       "      <td>Rockstar Games</td>\n",
       "      <td>NaN</td>\n",
       "      <td>Single-player,Multi-player,Downloadable Conten...</td>\n",
       "      <td>English, French, Italian, German, Spanish - Sp...</td>\n",
       "      <td>NaN</td>\n",
       "      <td>Action,Adventure</td>\n",
       "      <td>NaN</td>\n",
       "      <td>NaN</td>\n",
       "      <td>NaN</td>\n",
       "      <td>NaN</td>\n",
       "      <td>NaN</td>\n",
       "      <td>$35.18</td>\n",
       "      <td>5699</td>\n",
       "    </tr>\n",
       "  </tbody>\n",
       "</table>\n",
       "</div>"
      ],
      "text/plain": [
       "                                                 url   types  \\\n",
       "5  https://store.steampowered.com/bundle/5699/Gra...  bundle   \n",
       "\n",
       "                                         name  \\\n",
       "5  Grand Theft Auto V: Premium Online Edition   \n",
       "\n",
       "                                        desc_snippet recent_reviews  \\\n",
       "5  Grand Theft Auto V: Premium Online Edition bundle            NaN   \n",
       "\n",
       "  all_reviews release_date       developer       publisher popular_tags  \\\n",
       "5         NaN          NaN  Rockstar North  Rockstar Games          NaN   \n",
       "\n",
       "                                        game_details  \\\n",
       "5  Single-player,Multi-player,Downloadable Conten...   \n",
       "\n",
       "                                           languages  achievements  \\\n",
       "5  English, French, Italian, German, Spanish - Sp...           NaN   \n",
       "\n",
       "              genre game_description mature_content minimum_requirements  \\\n",
       "5  Action,Adventure              NaN            NaN                  NaN   \n",
       "\n",
       "  recommended_requirements original_price discount_price  app_id  \n",
       "5                      NaN            NaN         $35.18    5699  "
      ]
     },
     "execution_count": 28,
     "metadata": {},
     "output_type": "execute_result"
    }
   ],
   "source": [
    "steam_game[steam_game['types']=='bundle'].head(1)"
   ]
  },
  {
   "cell_type": "code",
   "execution_count": 29,
   "metadata": {},
   "outputs": [],
   "source": [
    "steam_game = steam_game[steam_game.types == 'app']"
   ]
  },
  {
   "cell_type": "code",
   "execution_count": 30,
   "metadata": {},
   "outputs": [],
   "source": [
    "steam_game.drop('types', axis=1, inplace=True)"
   ]
  },
  {
   "cell_type": "markdown",
   "metadata": {},
   "source": [
    "##### Check and delete duplicate values in app"
   ]
  },
  {
   "cell_type": "code",
   "execution_count": 31,
   "metadata": {},
   "outputs": [
    {
     "data": {
      "text/html": [
       "<div>\n",
       "<style scoped>\n",
       "    .dataframe tbody tr th:only-of-type {\n",
       "        vertical-align: middle;\n",
       "    }\n",
       "\n",
       "    .dataframe tbody tr th {\n",
       "        vertical-align: top;\n",
       "    }\n",
       "\n",
       "    .dataframe thead th {\n",
       "        text-align: right;\n",
       "    }\n",
       "</style>\n",
       "<table border=\"1\" class=\"dataframe\">\n",
       "  <thead>\n",
       "    <tr style=\"text-align: right;\">\n",
       "      <th></th>\n",
       "      <th>app_id</th>\n",
       "      <th>url</th>\n",
       "      <th>name</th>\n",
       "      <th>desc_snippet</th>\n",
       "      <th>recent_reviews</th>\n",
       "      <th>all_reviews</th>\n",
       "      <th>release_date</th>\n",
       "      <th>developer</th>\n",
       "      <th>publisher</th>\n",
       "      <th>popular_tags</th>\n",
       "      <th>game_details</th>\n",
       "      <th>languages</th>\n",
       "      <th>achievements</th>\n",
       "      <th>genre</th>\n",
       "      <th>game_description</th>\n",
       "      <th>mature_content</th>\n",
       "      <th>minimum_requirements</th>\n",
       "      <th>recommended_requirements</th>\n",
       "      <th>original_price</th>\n",
       "      <th>discount_price</th>\n",
       "    </tr>\n",
       "  </thead>\n",
       "  <tbody>\n",
       "    <tr>\n",
       "      <th>0</th>\n",
       "      <td>200260</td>\n",
       "      <td>https://store.steampowered.com/app/200260/Batm...</td>\n",
       "      <td>Batman: Arkham City - Game of the Year Edition</td>\n",
       "      <td>Get Batman: Arkham City and all DLC for one lo...</td>\n",
       "      <td>Very Positive,(161),- 91% of the 161 user revi...</td>\n",
       "      <td>Very Positive,(17,335),- 94% of the 17,335 use...</td>\n",
       "      <td>Sep 7, 2012</td>\n",
       "      <td>Rocksteady Studios,Feral Interactive (Mac)</td>\n",
       "      <td>Warner Bros. Interactive Entertainment,Feral I...</td>\n",
       "      <td>Action,Batman,Open World,Stealth,Adventure,Thi...</td>\n",
       "      <td>Single-player,Steam Achievements,Steam Trading...</td>\n",
       "      <td>English,French,German,Italian,Polish,Portugues...</td>\n",
       "      <td>64.0</td>\n",
       "      <td>Action,Adventure</td>\n",
       "      <td>About This Game Batman: Arkham City builds up...</td>\n",
       "      <td>NaN</td>\n",
       "      <td>NaN</td>\n",
       "      <td>NaN</td>\n",
       "      <td>$19.99</td>\n",
       "      <td>NaN</td>\n",
       "    </tr>\n",
       "    <tr>\n",
       "      <th>1</th>\n",
       "      <td>200260</td>\n",
       "      <td>https://store.steampowered.com/app/200260</td>\n",
       "      <td>Batman: Arkham City - Game of the Year Edition</td>\n",
       "      <td>Get Batman: Arkham City and all DLC for one lo...</td>\n",
       "      <td>Very Positive,(161),- 91% of the 161 user revi...</td>\n",
       "      <td>Very Positive,(17,335),- 94% of the 17,335 use...</td>\n",
       "      <td>Sep 7, 2012</td>\n",
       "      <td>Rocksteady Studios,Feral Interactive (Mac)</td>\n",
       "      <td>Warner Bros. Interactive Entertainment,Feral I...</td>\n",
       "      <td>Action,Batman,Open World,Stealth,Adventure,Thi...</td>\n",
       "      <td>Single-player,Steam Achievements,Steam Trading...</td>\n",
       "      <td>English,French,German,Italian,Polish,Portugues...</td>\n",
       "      <td>64.0</td>\n",
       "      <td>Action,Adventure</td>\n",
       "      <td>About This Game Batman: Arkham City builds up...</td>\n",
       "      <td>NaN</td>\n",
       "      <td>NaN</td>\n",
       "      <td>NaN</td>\n",
       "      <td>$19.99</td>\n",
       "      <td>NaN</td>\n",
       "    </tr>\n",
       "  </tbody>\n",
       "</table>\n",
       "</div>"
      ],
      "text/plain": [
       "   app_id                                                url  \\\n",
       "0  200260  https://store.steampowered.com/app/200260/Batm...   \n",
       "1  200260          https://store.steampowered.com/app/200260   \n",
       "\n",
       "                                             name  \\\n",
       "0  Batman: Arkham City - Game of the Year Edition   \n",
       "1  Batman: Arkham City - Game of the Year Edition   \n",
       "\n",
       "                                        desc_snippet  \\\n",
       "0  Get Batman: Arkham City and all DLC for one lo...   \n",
       "1  Get Batman: Arkham City and all DLC for one lo...   \n",
       "\n",
       "                                      recent_reviews  \\\n",
       "0  Very Positive,(161),- 91% of the 161 user revi...   \n",
       "1  Very Positive,(161),- 91% of the 161 user revi...   \n",
       "\n",
       "                                         all_reviews release_date  \\\n",
       "0  Very Positive,(17,335),- 94% of the 17,335 use...  Sep 7, 2012   \n",
       "1  Very Positive,(17,335),- 94% of the 17,335 use...  Sep 7, 2012   \n",
       "\n",
       "                                    developer  \\\n",
       "0  Rocksteady Studios,Feral Interactive (Mac)   \n",
       "1  Rocksteady Studios,Feral Interactive (Mac)   \n",
       "\n",
       "                                           publisher  \\\n",
       "0  Warner Bros. Interactive Entertainment,Feral I...   \n",
       "1  Warner Bros. Interactive Entertainment,Feral I...   \n",
       "\n",
       "                                        popular_tags  \\\n",
       "0  Action,Batman,Open World,Stealth,Adventure,Thi...   \n",
       "1  Action,Batman,Open World,Stealth,Adventure,Thi...   \n",
       "\n",
       "                                        game_details  \\\n",
       "0  Single-player,Steam Achievements,Steam Trading...   \n",
       "1  Single-player,Steam Achievements,Steam Trading...   \n",
       "\n",
       "                                           languages  achievements  \\\n",
       "0  English,French,German,Italian,Polish,Portugues...          64.0   \n",
       "1  English,French,German,Italian,Polish,Portugues...          64.0   \n",
       "\n",
       "              genre                                   game_description  \\\n",
       "0  Action,Adventure   About This Game Batman: Arkham City builds up...   \n",
       "1  Action,Adventure   About This Game Batman: Arkham City builds up...   \n",
       "\n",
       "  mature_content minimum_requirements recommended_requirements original_price  \\\n",
       "0            NaN                  NaN                      NaN         $19.99   \n",
       "1            NaN                  NaN                      NaN         $19.99   \n",
       "\n",
       "  discount_price  \n",
       "0            NaN  \n",
       "1            NaN  "
      ]
     },
     "execution_count": 31,
     "metadata": {},
     "output_type": "execute_result"
    }
   ],
   "source": [
    "df = steam_game.groupby(['app_id']).size()\n",
    "col = df[df>1].reset_index()[['app_id']]\n",
    "pd.merge(col, steam_game, on=['app_id'])"
   ]
  },
  {
   "cell_type": "code",
   "execution_count": 32,
   "metadata": {},
   "outputs": [],
   "source": [
    "steam_game = steam_game[steam_game.url != 'https://store.steampowered.com/app/200260']"
   ]
  },
  {
   "cell_type": "markdown",
   "metadata": {},
   "source": [
    "### (3) `recent_reviews` and `all_reviews`"
   ]
  },
  {
   "cell_type": "code",
   "execution_count": 33,
   "metadata": {},
   "outputs": [
    {
     "data": {
      "text/plain": [
       "'Very Positive,(554),- 89% of the 554 user reviews in the last 30 days are positive.'"
      ]
     },
     "execution_count": 33,
     "metadata": {},
     "output_type": "execute_result"
    }
   ],
   "source": [
    "steam_game['recent_reviews'][0]"
   ]
  },
  {
   "cell_type": "code",
   "execution_count": 34,
   "metadata": {},
   "outputs": [],
   "source": [
    "steam_game['recent_reviews_type'] = steam_game['recent_reviews'].str.split(',', expand=True)[0]\n",
    "steam_game['recent_reviews_number'] = steam_game['recent_reviews'].str.split(',', expand=True)[1].str.split('(', expand=True)[1].str.split(')', expand=True)[0]\n",
    "steam_game['recent_reviews_pct'] = steam_game['recent_reviews'].str.split('- ', expand=True)[1].str.split('%', expand=True)[0]"
   ]
  },
  {
   "cell_type": "code",
   "execution_count": 35,
   "metadata": {},
   "outputs": [],
   "source": [
    "steam_game['all_reviews_type'] = steam_game['all_reviews'].str.split(',', expand=True)[0]\n",
    "steam_game['all_reviews_number'] = steam_game['all_reviews'].str.split(',', expand=True)[1].str.split('(', expand=True)[1].str.split(')', expand=True)[0]\n",
    "steam_game['all_reviews_pct'] = steam_game['all_reviews'].str.split('- ', expand=True)[1].str.split('%', expand=True)[0]"
   ]
  },
  {
   "cell_type": "code",
   "execution_count": 36,
   "metadata": {
    "scrolled": true
   },
   "outputs": [
    {
     "data": {
      "text/plain": [
       "38020"
      ]
     },
     "execution_count": 36,
     "metadata": {},
     "output_type": "execute_result"
    }
   ],
   "source": [
    "steam_game.shape[0]"
   ]
  },
  {
   "cell_type": "markdown",
   "metadata": {},
   "source": [
    "# 3 Merge"
   ]
  },
  {
   "cell_type": "markdown",
   "metadata": {},
   "source": [
    "## 3.1 Merge"
   ]
  },
  {
   "cell_type": "code",
   "execution_count": 37,
   "metadata": {},
   "outputs": [],
   "source": [
    "steam = pd.merge(left=steam_review_1, right=steam_game, how='inner', on='app_id')"
   ]
  },
  {
   "cell_type": "code",
   "execution_count": 38,
   "metadata": {},
   "outputs": [
    {
     "data": {
      "text/plain": [
       "704304"
      ]
     },
     "execution_count": 38,
     "metadata": {},
     "output_type": "execute_result"
    }
   ],
   "source": [
    "steam.shape[0]"
   ]
  },
  {
   "cell_type": "markdown",
   "metadata": {},
   "source": [
    "## 3.2 Re-Check"
   ]
  },
  {
   "cell_type": "code",
   "execution_count": 39,
   "metadata": {},
   "outputs": [],
   "source": [
    "steam = steam[steam.review != '']"
   ]
  },
  {
   "cell_type": "code",
   "execution_count": 40,
   "metadata": {},
   "outputs": [
    {
     "data": {
      "text/plain": [
       "704304"
      ]
     },
     "execution_count": 40,
     "metadata": {},
     "output_type": "execute_result"
    }
   ],
   "source": [
    "steam.shape[0]"
   ]
  },
  {
   "cell_type": "markdown",
   "metadata": {},
   "source": [
    "## 3.3 Re-examine users and games $\\geq$ threshold"
   ]
  },
  {
   "cell_type": "code",
   "execution_count": 41,
   "metadata": {},
   "outputs": [],
   "source": [
    "n=1\n",
    "m=1\n",
    "\n",
    "N=15\n",
    "M=500\n",
    "\n",
    "steam_1 = steam\n",
    "\n",
    "while n<N or m<M:\n",
    "    ## Keep users who have enough reviews\n",
    "    group_user = steam_1['review_id'].groupby(steam_1['author.steamid']).size()\n",
    "    user_list = list(group_user[group_user>=N].index) # enough = one user need to have N reviews\n",
    "    steam_1 = steam_1[(steam_1['author.steamid'].isin(user_list))]\n",
    "    \n",
    "    ## Keep games who have enough users\n",
    "    group_game = steam_1['author.steamid'].groupby(steam_1['app_id']).size()\n",
    "    game_list = list(group_game[group_game>=M].index) # enough = one game need to have M users\n",
    "    steam_1 = steam_1[(steam_1['app_id'].isin(game_list))]\n",
    "\n",
    "    n = min(steam_1['review_id'].groupby(steam_1['author.steamid']).size()) # user ~ review\n",
    "    m = min(steam_1['author.steamid'].groupby(steam_1['app_id']).size()) # game ~ user"
   ]
  },
  {
   "cell_type": "code",
   "execution_count": 42,
   "metadata": {},
   "outputs": [
    {
     "data": {
      "text/plain": [
       "206997"
      ]
     },
     "execution_count": 42,
     "metadata": {},
     "output_type": "execute_result"
    }
   ],
   "source": [
    "steam_1.shape[0]"
   ]
  },
  {
   "cell_type": "markdown",
   "metadata": {},
   "source": [
    "#### Check"
   ]
  },
  {
   "cell_type": "markdown",
   "metadata": {},
   "source": [
    "##### Count"
   ]
  },
  {
   "cell_type": "code",
   "execution_count": 43,
   "metadata": {
    "scrolled": true
   },
   "outputs": [
    {
     "data": {
      "text/plain": [
       "count    10525.000000\n",
       "mean        19.667173\n",
       "std          5.789372\n",
       "min         15.000000\n",
       "25%         16.000000\n",
       "50%         18.000000\n",
       "75%         21.000000\n",
       "max        103.000000\n",
       "Name: review_id, dtype: float64"
      ]
     },
     "execution_count": 43,
     "metadata": {},
     "output_type": "execute_result"
    }
   ],
   "source": [
    "steam_1['review_id'].groupby(steam_1['author.steamid']).size().describe()"
   ]
  },
  {
   "cell_type": "code",
   "execution_count": 44,
   "metadata": {},
   "outputs": [
    {
     "data": {
      "image/png": "[encoded data removed]",
      "text/plain": [
       "<Figure size 1440x216 with 1 Axes>"
      ]
     },
     "metadata": {
      "needs_background": "light"
     },
     "output_type": "display_data"
    }
   ],
   "source": [
    "plt.figure(figsize=(20, 3))\n",
    "plt.hist(steam_1['review_id'].groupby(steam_1['author.steamid']).size(), bins=100, facecolor='#000080')\n",
    "plt.show()"
   ]
  },
  {
   "cell_type": "code",
   "execution_count": 45,
   "metadata": {},
   "outputs": [
    {
     "data": {
      "text/plain": [
       "count     136.000000\n",
       "mean     1522.036765\n",
       "std      1002.748869\n",
       "min       500.000000\n",
       "25%       815.750000\n",
       "50%      1236.000000\n",
       "75%      1787.500000\n",
       "max      5094.000000\n",
       "Name: author.steamid, dtype: float64"
      ]
     },
     "execution_count": 45,
     "metadata": {},
     "output_type": "execute_result"
    }
   ],
   "source": [
    "steam_1['author.steamid'].groupby(steam_1['app_id']).size().describe()"
   ]
  },
  {
   "cell_type": "markdown",
   "metadata": {},
   "source": [
    "##### Unique values"
   ]
  },
  {
   "cell_type": "code",
   "execution_count": 46,
   "metadata": {
    "scrolled": true
   },
   "outputs": [
    {
     "data": {
      "text/plain": [
       "206997"
      ]
     },
     "execution_count": 46,
     "metadata": {},
     "output_type": "execute_result"
    }
   ],
   "source": [
    "len(steam_1['review_id'].unique())"
   ]
  },
  {
   "cell_type": "code",
   "execution_count": 47,
   "metadata": {},
   "outputs": [
    {
     "data": {
      "text/plain": [
       "10525"
      ]
     },
     "execution_count": 47,
     "metadata": {},
     "output_type": "execute_result"
    }
   ],
   "source": [
    "len(steam_1['author.steamid'].unique())"
   ]
  },
  {
   "cell_type": "code",
   "execution_count": 48,
   "metadata": {},
   "outputs": [
    {
     "data": {
      "text/plain": [
       "136"
      ]
     },
     "execution_count": 48,
     "metadata": {},
     "output_type": "execute_result"
    }
   ],
   "source": [
    "len(steam_1['app_id'].unique())"
   ]
  },
  {
   "cell_type": "markdown",
   "metadata": {},
   "source": [
    "# 4 Clean processed data"
   ]
  },
  {
   "cell_type": "code",
   "execution_count": 49,
   "metadata": {},
   "outputs": [],
   "source": [
    "steam_1.drop(['app_name', 'recent_reviews', 'all_reviews'], axis=1, inplace=True)"
   ]
  },
  {
   "cell_type": "code",
   "execution_count": 50,
   "metadata": {},
   "outputs": [],
   "source": [
    "import time, datetime\n",
    "\n",
    "def stamp_to_time(stamp):\n",
    "    result = []\n",
    "    for time_stamp in stamp:\n",
    "        date_time = datetime.datetime.utcfromtimestamp(time_stamp)\n",
    "        result.append(date_time.strftime(\"%Y-%m-%d %H:%M:%S\"))\n",
    "    return result\n",
    "\n",
    "steam_1['datetime_created'] = stamp_to_time(steam_1.timestamp_created)\n",
    "steam_1['datetime_created'] = pd.to_datetime(steam_1['datetime_created'])\n",
    "\n",
    "steam_1['datetime_updated'] = stamp_to_time(steam_1.timestamp_updated)\n",
    "steam_1['datetime_updated'] = pd.to_datetime(steam_1['datetime_updated'])\n",
    "\n",
    "steam_1.drop(['timestamp_created', 'timestamp_updated'], axis=1, inplace=True)"
   ]
  },
  {
   "cell_type": "code",
   "execution_count": 51,
   "metadata": {},
   "outputs": [],
   "source": [
    "order = ['review_id', 'review', 'app_id', 'name', 'url', 'author.steamid', 'recommended',\n",
    "         'votes_helpful', 'votes_funny', 'weighted_vote_score', 'comment_count',\n",
    "         'datetime_created', 'datetime_updated',\n",
    "         'steam_purchase', 'received_for_free', 'original_price', 'discount_price',\n",
    "         'author.num_games_owned', 'author.num_reviews', 'author.playtime_forever', \n",
    "         'author.playtime_last_two_weeks', 'author.playtime_at_review', 'author.last_played', \n",
    "         'written_during_early_access',\n",
    "         'release_date', 'developer', 'publisher',\n",
    "         'desc_snippet', 'game_description', \n",
    "         'genre', 'popular_tags', 'game_details',\n",
    "         'languages', 'achievements',   'mature_content',\n",
    "         'minimum_requirements', 'recommended_requirements',\n",
    "         'recent_reviews_type', 'recent_reviews_number', 'recent_reviews_pct',\n",
    "         'all_reviews_type', 'all_reviews_number', 'all_reviews_pct']\n",
    "steam_1 = steam_1[order]"
   ]
  },
  {
   "cell_type": "code",
   "execution_count": 52,
   "metadata": {
    "scrolled": false
   },
   "outputs": [
    {
     "name": "stdout",
     "output_type": "stream",
     "text": [
      "<class 'pandas.core.frame.DataFrame'>\n",
      "Int64Index: 206997 entries, 0 to 703261\n",
      "Data columns (total 43 columns):\n",
      " #   Column                          Non-Null Count   Dtype         \n",
      "---  ------                          --------------   -----         \n",
      " 0   review_id                       206997 non-null  int64         \n",
      " 1   review                          206997 non-null  object        \n",
      " 2   app_id                          206997 non-null  int64         \n",
      " 3   name                            206997 non-null  object        \n",
      " 4   url                             206997 non-null  object        \n",
      " 5   author.steamid                  206997 non-null  int64         \n",
      " 6   recommended                     206997 non-null  bool          \n",
      " 7   votes_helpful                   206997 non-null  int64         \n",
      " 8   votes_funny                     206997 non-null  int64         \n",
      " 9   weighted_vote_score             206997 non-null  float64       \n",
      " 10  comment_count                   206997 non-null  int64         \n",
      " 11  datetime_created                206997 non-null  datetime64[ns]\n",
      " 12  datetime_updated                206997 non-null  datetime64[ns]\n",
      " 13  steam_purchase                  206997 non-null  bool          \n",
      " 14  received_for_free               206997 non-null  bool          \n",
      " 15  original_price                  206997 non-null  object        \n",
      " 16  discount_price                  121631 non-null  object        \n",
      " 17  author.num_games_owned          206997 non-null  int64         \n",
      " 18  author.num_reviews              206997 non-null  int64         \n",
      " 19  author.playtime_forever         206997 non-null  float64       \n",
      " 20  author.playtime_last_two_weeks  206997 non-null  float64       \n",
      " 21  author.playtime_at_review       206997 non-null  float64       \n",
      " 22  author.last_played              206997 non-null  float64       \n",
      " 23  written_during_early_access     206997 non-null  bool          \n",
      " 24  release_date                    205077 non-null  object        \n",
      " 25  developer                       206997 non-null  object        \n",
      " 26  publisher                       206113 non-null  object        \n",
      " 27  desc_snippet                    206997 non-null  object        \n",
      " 28  game_description                206997 non-null  object        \n",
      " 29  genre                           206997 non-null  object        \n",
      " 30  popular_tags                    206997 non-null  object        \n",
      " 31  game_details                    206997 non-null  object        \n",
      " 32  languages                       206997 non-null  object        \n",
      " 33  achievements                    175363 non-null  float64       \n",
      " 34  mature_content                  46980 non-null   object        \n",
      " 35  minimum_requirements            168165 non-null  object        \n",
      " 36  recommended_requirements        168165 non-null  object        \n",
      " 37  recent_reviews_type             205012 non-null  object        \n",
      " 38  recent_reviews_number           205012 non-null  object        \n",
      " 39  recent_reviews_pct              205012 non-null  object        \n",
      " 40  all_reviews_type                205012 non-null  object        \n",
      " 41  all_reviews_number              205012 non-null  object        \n",
      " 42  all_reviews_pct                 205012 non-null  object        \n",
      "dtypes: bool(4), datetime64[ns](2), float64(6), int64(8), object(23)\n",
      "memory usage: 74.0+ MB\n"
     ]
    }
   ],
   "source": [
    "steam_1.info()"
   ]
  },
  {
   "cell_type": "code",
   "execution_count": 53,
   "metadata": {},
   "outputs": [
    {
     "data": {
      "text/plain": [
       "review_id                              0\n",
       "review                                 0\n",
       "app_id                                 0\n",
       "name                                   0\n",
       "url                                    0\n",
       "author.steamid                         0\n",
       "recommended                            0\n",
       "votes_helpful                          0\n",
       "votes_funny                            0\n",
       "weighted_vote_score                    0\n",
       "comment_count                          0\n",
       "datetime_created                       0\n",
       "datetime_updated                       0\n",
       "steam_purchase                         0\n",
       "received_for_free                      0\n",
       "original_price                         0\n",
       "discount_price                     85366\n",
       "author.num_games_owned                 0\n",
       "author.num_reviews                     0\n",
       "author.playtime_forever                0\n",
       "author.playtime_last_two_weeks         0\n",
       "author.playtime_at_review              0\n",
       "author.last_played                     0\n",
       "written_during_early_access            0\n",
       "release_date                        1920\n",
       "developer                              0\n",
       "publisher                            884\n",
       "desc_snippet                           0\n",
       "game_description                       0\n",
       "genre                                  0\n",
       "popular_tags                           0\n",
       "game_details                           0\n",
       "languages                              0\n",
       "achievements                       31634\n",
       "mature_content                    160017\n",
       "minimum_requirements               38832\n",
       "recommended_requirements           38832\n",
       "recent_reviews_type                 1985\n",
       "recent_reviews_number               1985\n",
       "recent_reviews_pct                  1985\n",
       "all_reviews_type                    1985\n",
       "all_reviews_number                  1985\n",
       "all_reviews_pct                     1985\n",
       "dtype: int64"
      ]
     },
     "execution_count": 53,
     "metadata": {},
     "output_type": "execute_result"
    }
   ],
   "source": [
    "steam_1.isnull().sum()"
   ]
  },
  {
   "cell_type": "markdown",
   "metadata": {},
   "source": [
    "# 5 Output"
   ]
  },
  {
   "cell_type": "code",
   "execution_count": 54,
   "metadata": {},
   "outputs": [],
   "source": [
    "steam_1.to_csv('steam_cleaned.csv')"
   ]
  },
  {
   "cell_type": "markdown",
   "metadata": {},
   "source": [
    "<hr>"
   ]
  },
  {
   "cell_type": "markdown",
   "metadata": {},
   "source": [
    "# Less columns"
   ]
  },
  {
   "cell_type": "code",
   "execution_count": 55,
   "metadata": {},
   "outputs": [],
   "source": [
    "col_2 = ['review_id', 'review', 'app_id', 'name', 'url', 'author.steamid', 'recommended',\n",
    "         'votes_helpful', 'votes_funny', 'weighted_vote_score', 'comment_count',\n",
    "         'datetime_created', 'datetime_updated',\n",
    "         'steam_purchase', 'received_for_free', 'original_price', 'discount_price',\n",
    "         'author.num_games_owned', 'author.num_reviews', 'author.playtime_forever', \n",
    "         'author.playtime_last_two_weeks', 'author.playtime_at_review', 'author.last_played', \n",
    "         'written_during_early_access',\n",
    "         'developer',\n",
    "         'desc_snippet', 'game_description', \n",
    "         'genre', 'popular_tags', 'game_details',\n",
    "         'languages']\n",
    "steam_2 = steam_1[col_2]"
   ]
  },
  {
   "cell_type": "code",
   "execution_count": 56,
   "metadata": {},
   "outputs": [],
   "source": [
    "steam_2.to_csv('steam_cleaned_less.csv')"
   ]
  },
  {
   "cell_type": "code",
   "execution_count": 57,
   "metadata": {
    "scrolled": true
   },
   "outputs": [
    {
     "data": {
      "text/plain": [
       "(206997, 31)"
      ]
     },
     "execution_count": 57,
     "metadata": {},
     "output_type": "execute_result"
    }
   ],
   "source": [
    "steam_2.shape"
   ]
  }
 ],
 "metadata": {
  "kernelspec": {
   "display_name": "Python 3",
   "language": "python",
   "name": "python3"
  },
  "language_info": {
   "codemirror_mode": {
    "name": "ipython",
    "version": 3
   },
   "file_extension": ".py",
   "mimetype": "text/x-python",
   "name": "python",
   "nbconvert_exporter": "python",
   "pygments_lexer": "ipython3",
   "version": "3.7.6"
  }
 },
 "nbformat": 4,
 "nbformat_minor": 2
}
