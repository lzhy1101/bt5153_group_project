{
 "cells": [
  {
   "cell_type": "code",
   "execution_count": 1,
   "metadata": {},
   "outputs": [],
   "source": [
    "import numpy as np\n",
    "import pandas as pd\n",
    "import matplotlib.pyplot as plt\n",
    "import math\n",
    "import nltk\n",
    "import jieba\n",
    "import re\n",
    "from nltk.corpus import stopwords\n",
    "import gensim\n",
    "from gensim.models import word2vec\n",
    "from sklearn.model_selection import train_test_split\n",
    "from sklearn.feature_extraction.text import CountVectorizer\n",
    "from sklearn.preprocessing import OneHotEncoder\n",
    "from sklearn import preprocessing\n",
    "from keras.models import Sequential\n",
    "from keras.layers import Dense\n",
    "from keras.optimizers import Adam\n",
    "from keras.layers.embeddings import Embedding\n",
    "from keras.layers.core import Flatten"
   ]
  },
  {
   "cell_type": "code",
   "execution_count": 2,
   "metadata": {},
   "outputs": [],
   "source": [
    "df_original = pd.read_csv('steam_games.csv')\n",
    "stopwords =  stopwords.words('english')\n",
    "user = pd.read_csv('steam_cleaned_less.csv')"
   ]
  },
  {
   "cell_type": "code",
   "execution_count": 3,
   "metadata": {},
   "outputs": [
    {
     "data": {
      "text/html": [
       "<div>\n",
       "<style scoped>\n",
       "    .dataframe tbody tr th:only-of-type {\n",
       "        vertical-align: middle;\n",
       "    }\n",
       "\n",
       "    .dataframe tbody tr th {\n",
       "        vertical-align: top;\n",
       "    }\n",
       "\n",
       "    .dataframe thead th {\n",
       "        text-align: right;\n",
       "    }\n",
       "</style>\n",
       "<table border=\"1\" class=\"dataframe\">\n",
       "  <thead>\n",
       "    <tr style=\"text-align: right;\">\n",
       "      <th></th>\n",
       "      <th>Unnamed: 0</th>\n",
       "      <th>review_id</th>\n",
       "      <th>review</th>\n",
       "      <th>app_id</th>\n",
       "      <th>name</th>\n",
       "      <th>url</th>\n",
       "      <th>author.steamid</th>\n",
       "      <th>recommended</th>\n",
       "      <th>votes_helpful</th>\n",
       "      <th>votes_funny</th>\n",
       "      <th>...</th>\n",
       "      <th>author.playtime_at_review</th>\n",
       "      <th>author.last_played</th>\n",
       "      <th>written_during_early_access</th>\n",
       "      <th>developer</th>\n",
       "      <th>desc_snippet</th>\n",
       "      <th>game_description</th>\n",
       "      <th>genre</th>\n",
       "      <th>popular_tags</th>\n",
       "      <th>game_details</th>\n",
       "      <th>languages</th>\n",
       "    </tr>\n",
       "  </thead>\n",
       "  <tbody>\n",
       "    <tr>\n",
       "      <th>0</th>\n",
       "      <td>0</td>\n",
       "      <td>85174926</td>\n",
       "      <td>The game is enjoyable enough but...\\n-Combat h...</td>\n",
       "      <td>292030</td>\n",
       "      <td>The Witcher® 3: Wild Hunt</td>\n",
       "      <td>https://store.steampowered.com/app/292030/The_...</td>\n",
       "      <td>76561198020027165</td>\n",
       "      <td>True</td>\n",
       "      <td>0</td>\n",
       "      <td>0</td>\n",
       "      <td>...</td>\n",
       "      <td>398.0</td>\n",
       "      <td>1.611370e+09</td>\n",
       "      <td>False</td>\n",
       "      <td>CD PROJEKT RED</td>\n",
       "      <td>As war rages on throughout the Northern Realms...</td>\n",
       "      <td>About This Game The Witcher: Wild Hunt is a s...</td>\n",
       "      <td>RPG</td>\n",
       "      <td>Open World,RPG,Story Rich,Atmospheric,Mature,F...</td>\n",
       "      <td>Single-player,Steam Achievements,Full controll...</td>\n",
       "      <td>English,French,Italian,German,Spanish - Spain,...</td>\n",
       "    </tr>\n",
       "    <tr>\n",
       "      <th>1</th>\n",
       "      <td>1</td>\n",
       "      <td>85165539</td>\n",
       "      <td>like dark souls but with witches</td>\n",
       "      <td>292030</td>\n",
       "      <td>The Witcher® 3: Wild Hunt</td>\n",
       "      <td>https://store.steampowered.com/app/292030/The_...</td>\n",
       "      <td>76561198983515611</td>\n",
       "      <td>True</td>\n",
       "      <td>0</td>\n",
       "      <td>0</td>\n",
       "      <td>...</td>\n",
       "      <td>325.0</td>\n",
       "      <td>1.610922e+09</td>\n",
       "      <td>False</td>\n",
       "      <td>CD PROJEKT RED</td>\n",
       "      <td>As war rages on throughout the Northern Realms...</td>\n",
       "      <td>About This Game The Witcher: Wild Hunt is a s...</td>\n",
       "      <td>RPG</td>\n",
       "      <td>Open World,RPG,Story Rich,Atmospheric,Mature,F...</td>\n",
       "      <td>Single-player,Steam Achievements,Full controll...</td>\n",
       "      <td>English,French,Italian,German,Spanish - Spain,...</td>\n",
       "    </tr>\n",
       "    <tr>\n",
       "      <th>2</th>\n",
       "      <td>3</td>\n",
       "      <td>85155206</td>\n",
       "      <td>They certainly dumbed down the series since th...</td>\n",
       "      <td>292030</td>\n",
       "      <td>The Witcher® 3: Wild Hunt</td>\n",
       "      <td>https://store.steampowered.com/app/292030/The_...</td>\n",
       "      <td>76561198010955177</td>\n",
       "      <td>False</td>\n",
       "      <td>0</td>\n",
       "      <td>0</td>\n",
       "      <td>...</td>\n",
       "      <td>8966.0</td>\n",
       "      <td>1.514417e+09</td>\n",
       "      <td>False</td>\n",
       "      <td>CD PROJEKT RED</td>\n",
       "      <td>As war rages on throughout the Northern Realms...</td>\n",
       "      <td>About This Game The Witcher: Wild Hunt is a s...</td>\n",
       "      <td>RPG</td>\n",
       "      <td>Open World,RPG,Story Rich,Atmospheric,Mature,F...</td>\n",
       "      <td>Single-player,Steam Achievements,Full controll...</td>\n",
       "      <td>English,French,Italian,German,Spanish - Spain,...</td>\n",
       "    </tr>\n",
       "    <tr>\n",
       "      <th>3</th>\n",
       "      <td>14</td>\n",
       "      <td>85049145</td>\n",
       "      <td>⠀</td>\n",
       "      <td>292030</td>\n",
       "      <td>The Witcher® 3: Wild Hunt</td>\n",
       "      <td>https://store.steampowered.com/app/292030/The_...</td>\n",
       "      <td>76561197969538443</td>\n",
       "      <td>True</td>\n",
       "      <td>0</td>\n",
       "      <td>0</td>\n",
       "      <td>...</td>\n",
       "      <td>7072.0</td>\n",
       "      <td>1.529545e+09</td>\n",
       "      <td>False</td>\n",
       "      <td>CD PROJEKT RED</td>\n",
       "      <td>As war rages on throughout the Northern Realms...</td>\n",
       "      <td>About This Game The Witcher: Wild Hunt is a s...</td>\n",
       "      <td>RPG</td>\n",
       "      <td>Open World,RPG,Story Rich,Atmospheric,Mature,F...</td>\n",
       "      <td>Single-player,Steam Achievements,Full controll...</td>\n",
       "      <td>English,French,Italian,German,Spanish - Spain,...</td>\n",
       "    </tr>\n",
       "    <tr>\n",
       "      <th>4</th>\n",
       "      <td>25</td>\n",
       "      <td>84841853</td>\n",
       "      <td>i mean the reviews say it all</td>\n",
       "      <td>292030</td>\n",
       "      <td>The Witcher® 3: Wild Hunt</td>\n",
       "      <td>https://store.steampowered.com/app/292030/The_...</td>\n",
       "      <td>76561198173380217</td>\n",
       "      <td>True</td>\n",
       "      <td>1</td>\n",
       "      <td>0</td>\n",
       "      <td>...</td>\n",
       "      <td>231.0</td>\n",
       "      <td>1.591251e+09</td>\n",
       "      <td>False</td>\n",
       "      <td>CD PROJEKT RED</td>\n",
       "      <td>As war rages on throughout the Northern Realms...</td>\n",
       "      <td>About This Game The Witcher: Wild Hunt is a s...</td>\n",
       "      <td>RPG</td>\n",
       "      <td>Open World,RPG,Story Rich,Atmospheric,Mature,F...</td>\n",
       "      <td>Single-player,Steam Achievements,Full controll...</td>\n",
       "      <td>English,French,Italian,German,Spanish - Spain,...</td>\n",
       "    </tr>\n",
       "  </tbody>\n",
       "</table>\n",
       "<p>5 rows × 32 columns</p>\n",
       "</div>"
      ],
      "text/plain": [
       "   Unnamed: 0  review_id                                             review  \\\n",
       "0           0   85174926  The game is enjoyable enough but...\\n-Combat h...   \n",
       "1           1   85165539                   like dark souls but with witches   \n",
       "2           3   85155206  They certainly dumbed down the series since th...   \n",
       "3          14   85049145                                                  ⠀   \n",
       "4          25   84841853                      i mean the reviews say it all   \n",
       "\n",
       "   app_id                       name  \\\n",
       "0  292030  The Witcher® 3: Wild Hunt   \n",
       "1  292030  The Witcher® 3: Wild Hunt   \n",
       "2  292030  The Witcher® 3: Wild Hunt   \n",
       "3  292030  The Witcher® 3: Wild Hunt   \n",
       "4  292030  The Witcher® 3: Wild Hunt   \n",
       "\n",
       "                                                 url     author.steamid  \\\n",
       "0  https://store.steampowered.com/app/292030/The_...  76561198020027165   \n",
       "1  https://store.steampowered.com/app/292030/The_...  76561198983515611   \n",
       "2  https://store.steampowered.com/app/292030/The_...  76561198010955177   \n",
       "3  https://store.steampowered.com/app/292030/The_...  76561197969538443   \n",
       "4  https://store.steampowered.com/app/292030/The_...  76561198173380217   \n",
       "\n",
       "   recommended  votes_helpful  votes_funny  ...  author.playtime_at_review  \\\n",
       "0         True              0            0  ...                      398.0   \n",
       "1         True              0            0  ...                      325.0   \n",
       "2        False              0            0  ...                     8966.0   \n",
       "3         True              0            0  ...                     7072.0   \n",
       "4         True              1            0  ...                      231.0   \n",
       "\n",
       "   author.last_played written_during_early_access       developer  \\\n",
       "0        1.611370e+09                       False  CD PROJEKT RED   \n",
       "1        1.610922e+09                       False  CD PROJEKT RED   \n",
       "2        1.514417e+09                       False  CD PROJEKT RED   \n",
       "3        1.529545e+09                       False  CD PROJEKT RED   \n",
       "4        1.591251e+09                       False  CD PROJEKT RED   \n",
       "\n",
       "                                        desc_snippet  \\\n",
       "0  As war rages on throughout the Northern Realms...   \n",
       "1  As war rages on throughout the Northern Realms...   \n",
       "2  As war rages on throughout the Northern Realms...   \n",
       "3  As war rages on throughout the Northern Realms...   \n",
       "4  As war rages on throughout the Northern Realms...   \n",
       "\n",
       "                                    game_description genre  \\\n",
       "0   About This Game The Witcher: Wild Hunt is a s...   RPG   \n",
       "1   About This Game The Witcher: Wild Hunt is a s...   RPG   \n",
       "2   About This Game The Witcher: Wild Hunt is a s...   RPG   \n",
       "3   About This Game The Witcher: Wild Hunt is a s...   RPG   \n",
       "4   About This Game The Witcher: Wild Hunt is a s...   RPG   \n",
       "\n",
       "                                        popular_tags  \\\n",
       "0  Open World,RPG,Story Rich,Atmospheric,Mature,F...   \n",
       "1  Open World,RPG,Story Rich,Atmospheric,Mature,F...   \n",
       "2  Open World,RPG,Story Rich,Atmospheric,Mature,F...   \n",
       "3  Open World,RPG,Story Rich,Atmospheric,Mature,F...   \n",
       "4  Open World,RPG,Story Rich,Atmospheric,Mature,F...   \n",
       "\n",
       "                                        game_details  \\\n",
       "0  Single-player,Steam Achievements,Full controll...   \n",
       "1  Single-player,Steam Achievements,Full controll...   \n",
       "2  Single-player,Steam Achievements,Full controll...   \n",
       "3  Single-player,Steam Achievements,Full controll...   \n",
       "4  Single-player,Steam Achievements,Full controll...   \n",
       "\n",
       "                                           languages  \n",
       "0  English,French,Italian,German,Spanish - Spain,...  \n",
       "1  English,French,Italian,German,Spanish - Spain,...  \n",
       "2  English,French,Italian,German,Spanish - Spain,...  \n",
       "3  English,French,Italian,German,Spanish - Spain,...  \n",
       "4  English,French,Italian,German,Spanish - Spain,...  \n",
       "\n",
       "[5 rows x 32 columns]"
      ]
     },
     "execution_count": 3,
     "metadata": {},
     "output_type": "execute_result"
    }
   ],
   "source": [
    "user.head()"
   ]
  },
  {
   "cell_type": "code",
   "execution_count": 4,
   "metadata": {},
   "outputs": [],
   "source": [
    "gameList = user.name.unique()\n",
    "idList = user.app_id.unique()"
   ]
  },
  {
   "cell_type": "markdown",
   "metadata": {},
   "source": [
    "## 1.Dataset cleaning and preprocessing "
   ]
  },
  {
   "cell_type": "code",
   "execution_count": 5,
   "metadata": {},
   "outputs": [],
   "source": [
    "gameSet = pd.DataFrame()\n",
    "for i in range(len(gameList)):\n",
    "    for j in range(len(df_original)):\n",
    "        if gameList[i] == df_original.name.values[j]:\n",
    "            gameSet = gameSet.append(df_original.iloc[j])\n",
    "    "
   ]
  },
  {
   "cell_type": "code",
   "execution_count": 6,
   "metadata": {},
   "outputs": [
    {
     "data": {
      "text/html": [
       "<div>\n",
       "<style scoped>\n",
       "    .dataframe tbody tr th:only-of-type {\n",
       "        vertical-align: middle;\n",
       "    }\n",
       "\n",
       "    .dataframe tbody tr th {\n",
       "        vertical-align: top;\n",
       "    }\n",
       "\n",
       "    .dataframe thead th {\n",
       "        text-align: right;\n",
       "    }\n",
       "</style>\n",
       "<table border=\"1\" class=\"dataframe\">\n",
       "  <thead>\n",
       "    <tr style=\"text-align: right;\">\n",
       "      <th></th>\n",
       "      <th>achievements</th>\n",
       "      <th>all_reviews</th>\n",
       "      <th>desc_snippet</th>\n",
       "      <th>developer</th>\n",
       "      <th>discount_price</th>\n",
       "      <th>game_description</th>\n",
       "      <th>game_details</th>\n",
       "      <th>genre</th>\n",
       "      <th>languages</th>\n",
       "      <th>mature_content</th>\n",
       "      <th>minimum_requirements</th>\n",
       "      <th>name</th>\n",
       "      <th>original_price</th>\n",
       "      <th>popular_tags</th>\n",
       "      <th>publisher</th>\n",
       "      <th>recent_reviews</th>\n",
       "      <th>recommended_requirements</th>\n",
       "      <th>release_date</th>\n",
       "      <th>types</th>\n",
       "      <th>url</th>\n",
       "    </tr>\n",
       "  </thead>\n",
       "  <tbody>\n",
       "    <tr>\n",
       "      <th>0</th>\n",
       "      <td>78.0</td>\n",
       "      <td>Overwhelmingly Positive,(189,538),- 97% of the...</td>\n",
       "      <td>As war rages on throughout the Northern Realms...</td>\n",
       "      <td>CD PROJEKT RED</td>\n",
       "      <td>$11.99</td>\n",
       "      <td>About This Game The Witcher: Wild Hunt is a s...</td>\n",
       "      <td>Single-player,Steam Achievements,Full controll...</td>\n",
       "      <td>RPG</td>\n",
       "      <td>English,French,Italian,German,Spanish - Spain,...</td>\n",
       "      <td>Mature Content Description  The developers de...</td>\n",
       "      <td>Minimum:,OS:,64-bit Windows 7, 64-bit Windows ...</td>\n",
       "      <td>The Witcher® 3: Wild Hunt</td>\n",
       "      <td>$39.99</td>\n",
       "      <td>Open World,RPG,Story Rich,Atmospheric,Mature,F...</td>\n",
       "      <td>CD PROJEKT RED,CD PROJEKT RED</td>\n",
       "      <td>Overwhelmingly Positive,(2,386),- 96% of the 2...</td>\n",
       "      <td>Recommended:,OS:,64-bit Windows 7, 64-bit Wind...</td>\n",
       "      <td>May 18, 2015</td>\n",
       "      <td>app</td>\n",
       "      <td>https://store.steampowered.com/app/292030/The_...</td>\n",
       "    </tr>\n",
       "    <tr>\n",
       "      <th>1</th>\n",
       "      <td>NaN</td>\n",
       "      <td>Overwhelmingly Positive,(22,515),- 95% of the ...</td>\n",
       "      <td>Named Game of the Year by over 50 publications...</td>\n",
       "      <td>Valve</td>\n",
       "      <td>$65.70</td>\n",
       "      <td>About This Game Named Game of the Year by ove...</td>\n",
       "      <td>Single-player,Multi-player,Online Multi-Player...</td>\n",
       "      <td>Action</td>\n",
       "      <td>English,French,German,Italian,Spanish - Spain,...</td>\n",
       "      <td>NaN</td>\n",
       "      <td>NaN</td>\n",
       "      <td>Half-Life</td>\n",
       "      <td>$9.99</td>\n",
       "      <td>FPS,Classic,Action,Sci-fi,Singleplayer,Masterp...</td>\n",
       "      <td>Valve,Valve</td>\n",
       "      <td>Overwhelmingly Positive,(235),- 96% of the 235...</td>\n",
       "      <td>NaN</td>\n",
       "      <td>Nov 8, 1998</td>\n",
       "      <td>app</td>\n",
       "      <td>https://store.steampowered.com/app/70/HalfLife/</td>\n",
       "    </tr>\n",
       "    <tr>\n",
       "      <th>2</th>\n",
       "      <td>147.0</td>\n",
       "      <td>Overwhelmingly Positive,(45,829),- 95% of the ...</td>\n",
       "      <td>Just updated to include player stats, achievem...</td>\n",
       "      <td>Valve</td>\n",
       "      <td>$65.70</td>\n",
       "      <td>About This Game THE NEXT INSTALLMENT OF THE W...</td>\n",
       "      <td>Multi-player,Cross-Platform Multiplayer,Steam ...</td>\n",
       "      <td>Action</td>\n",
       "      <td>English,French,German,Italian,Japanese,Korean,...</td>\n",
       "      <td>Mature Content Description  The developers de...</td>\n",
       "      <td>NaN</td>\n",
       "      <td>Counter-Strike: Source</td>\n",
       "      <td>$9.99</td>\n",
       "      <td>Shooter,Action,FPS,Multiplayer,Team-Based,Firs...</td>\n",
       "      <td>Valve,Valve</td>\n",
       "      <td>Very Positive,(439),- 94% of the 439 user revi...</td>\n",
       "      <td>NaN</td>\n",
       "      <td>Nov 1, 2004</td>\n",
       "      <td>app</td>\n",
       "      <td>https://store.steampowered.com/app/240/Counter...</td>\n",
       "    </tr>\n",
       "    <tr>\n",
       "      <th>3</th>\n",
       "      <td>22.0</td>\n",
       "      <td>Overwhelmingly Positive,(10,894),- 95% of the ...</td>\n",
       "      <td>Half-Life® 2: Episode Two is the second in a t...</td>\n",
       "      <td>Valve</td>\n",
       "      <td>$65.70</td>\n",
       "      <td>About This Game  Half-Life® 2: Episode Two is...</td>\n",
       "      <td>Single-player,Steam Achievements,Captions avai...</td>\n",
       "      <td>Action</td>\n",
       "      <td>English,French,German,Russian,Danish,Dutch,Fin...</td>\n",
       "      <td>NaN</td>\n",
       "      <td>NaN</td>\n",
       "      <td>Half-Life 2: Episode Two</td>\n",
       "      <td>$7.99</td>\n",
       "      <td>FPS,Action,Sci-fi,Singleplayer,Shooter,Story R...</td>\n",
       "      <td>Valve,Valve</td>\n",
       "      <td>Overwhelmingly Positive,(143),- 97% of the 143...</td>\n",
       "      <td>NaN</td>\n",
       "      <td>Oct 10, 2007</td>\n",
       "      <td>app</td>\n",
       "      <td>https://store.steampowered.com/app/420/HalfLif...</td>\n",
       "    </tr>\n",
       "    <tr>\n",
       "      <th>4</th>\n",
       "      <td>51.0</td>\n",
       "      <td>Overwhelmingly Positive,(104,354),- 98% of the...</td>\n",
       "      <td>The \"Perpetual Testing Initiative\" has been ex...</td>\n",
       "      <td>Valve</td>\n",
       "      <td>$14.98</td>\n",
       "      <td>About This Game Portal 2 draws from the award...</td>\n",
       "      <td>Single-player,Co-op,Steam Achievements,Full co...</td>\n",
       "      <td>Action,Adventure</td>\n",
       "      <td>English,French,German,Spanish - Spain,Czech,Da...</td>\n",
       "      <td>NaN</td>\n",
       "      <td>NaN</td>\n",
       "      <td>Portal 2</td>\n",
       "      <td>$9.99</td>\n",
       "      <td>Puzzle,Co-op,First-Person,Sci-fi,Comedy,Single...</td>\n",
       "      <td>Valve,Valve</td>\n",
       "      <td>Overwhelmingly Positive,(899),- 98% of the 899...</td>\n",
       "      <td>NaN</td>\n",
       "      <td>Apr 18, 2011</td>\n",
       "      <td>app</td>\n",
       "      <td>https://store.steampowered.com/app/620/Portal_2/</td>\n",
       "    </tr>\n",
       "  </tbody>\n",
       "</table>\n",
       "</div>"
      ],
      "text/plain": [
       "   achievements                                        all_reviews  \\\n",
       "0          78.0  Overwhelmingly Positive,(189,538),- 97% of the...   \n",
       "1           NaN  Overwhelmingly Positive,(22,515),- 95% of the ...   \n",
       "2         147.0  Overwhelmingly Positive,(45,829),- 95% of the ...   \n",
       "3          22.0  Overwhelmingly Positive,(10,894),- 95% of the ...   \n",
       "4          51.0  Overwhelmingly Positive,(104,354),- 98% of the...   \n",
       "\n",
       "                                        desc_snippet       developer  \\\n",
       "0  As war rages on throughout the Northern Realms...  CD PROJEKT RED   \n",
       "1  Named Game of the Year by over 50 publications...           Valve   \n",
       "2  Just updated to include player stats, achievem...           Valve   \n",
       "3  Half-Life® 2: Episode Two is the second in a t...           Valve   \n",
       "4  The \"Perpetual Testing Initiative\" has been ex...           Valve   \n",
       "\n",
       "  discount_price                                   game_description  \\\n",
       "0         $11.99   About This Game The Witcher: Wild Hunt is a s...   \n",
       "1         $65.70   About This Game Named Game of the Year by ove...   \n",
       "2         $65.70   About This Game THE NEXT INSTALLMENT OF THE W...   \n",
       "3         $65.70   About This Game  Half-Life® 2: Episode Two is...   \n",
       "4         $14.98   About This Game Portal 2 draws from the award...   \n",
       "\n",
       "                                        game_details             genre  \\\n",
       "0  Single-player,Steam Achievements,Full controll...               RPG   \n",
       "1  Single-player,Multi-player,Online Multi-Player...            Action   \n",
       "2  Multi-player,Cross-Platform Multiplayer,Steam ...            Action   \n",
       "3  Single-player,Steam Achievements,Captions avai...            Action   \n",
       "4  Single-player,Co-op,Steam Achievements,Full co...  Action,Adventure   \n",
       "\n",
       "                                           languages  \\\n",
       "0  English,French,Italian,German,Spanish - Spain,...   \n",
       "1  English,French,German,Italian,Spanish - Spain,...   \n",
       "2  English,French,German,Italian,Japanese,Korean,...   \n",
       "3  English,French,German,Russian,Danish,Dutch,Fin...   \n",
       "4  English,French,German,Spanish - Spain,Czech,Da...   \n",
       "\n",
       "                                      mature_content  \\\n",
       "0   Mature Content Description  The developers de...   \n",
       "1                                                NaN   \n",
       "2   Mature Content Description  The developers de...   \n",
       "3                                                NaN   \n",
       "4                                                NaN   \n",
       "\n",
       "                                minimum_requirements  \\\n",
       "0  Minimum:,OS:,64-bit Windows 7, 64-bit Windows ...   \n",
       "1                                                NaN   \n",
       "2                                                NaN   \n",
       "3                                                NaN   \n",
       "4                                                NaN   \n",
       "\n",
       "                        name original_price  \\\n",
       "0  The Witcher® 3: Wild Hunt         $39.99   \n",
       "1                  Half-Life          $9.99   \n",
       "2     Counter-Strike: Source          $9.99   \n",
       "3   Half-Life 2: Episode Two          $7.99   \n",
       "4                   Portal 2          $9.99   \n",
       "\n",
       "                                        popular_tags  \\\n",
       "0  Open World,RPG,Story Rich,Atmospheric,Mature,F...   \n",
       "1  FPS,Classic,Action,Sci-fi,Singleplayer,Masterp...   \n",
       "2  Shooter,Action,FPS,Multiplayer,Team-Based,Firs...   \n",
       "3  FPS,Action,Sci-fi,Singleplayer,Shooter,Story R...   \n",
       "4  Puzzle,Co-op,First-Person,Sci-fi,Comedy,Single...   \n",
       "\n",
       "                       publisher  \\\n",
       "0  CD PROJEKT RED,CD PROJEKT RED   \n",
       "1                    Valve,Valve   \n",
       "2                    Valve,Valve   \n",
       "3                    Valve,Valve   \n",
       "4                    Valve,Valve   \n",
       "\n",
       "                                      recent_reviews  \\\n",
       "0  Overwhelmingly Positive,(2,386),- 96% of the 2...   \n",
       "1  Overwhelmingly Positive,(235),- 96% of the 235...   \n",
       "2  Very Positive,(439),- 94% of the 439 user revi...   \n",
       "3  Overwhelmingly Positive,(143),- 97% of the 143...   \n",
       "4  Overwhelmingly Positive,(899),- 98% of the 899...   \n",
       "\n",
       "                            recommended_requirements  release_date types  \\\n",
       "0  Recommended:,OS:,64-bit Windows 7, 64-bit Wind...  May 18, 2015   app   \n",
       "1                                                NaN   Nov 8, 1998   app   \n",
       "2                                                NaN   Nov 1, 2004   app   \n",
       "3                                                NaN  Oct 10, 2007   app   \n",
       "4                                                NaN  Apr 18, 2011   app   \n",
       "\n",
       "                                                 url  \n",
       "0  https://store.steampowered.com/app/292030/The_...  \n",
       "1    https://store.steampowered.com/app/70/HalfLife/  \n",
       "2  https://store.steampowered.com/app/240/Counter...  \n",
       "3  https://store.steampowered.com/app/420/HalfLif...  \n",
       "4   https://store.steampowered.com/app/620/Portal_2/  "
      ]
     },
     "execution_count": 6,
     "metadata": {},
     "output_type": "execute_result"
    }
   ],
   "source": [
    "gameSet = gameSet.reset_index(drop=True) \n",
    "gameSet.head()"
   ]
  },
  {
   "cell_type": "code",
   "execution_count": 7,
   "metadata": {},
   "outputs": [],
   "source": [
    "temp = gameSet['all_reviews'].values\n",
    "temp[34] = '90%'\n",
    "gameSet['all_reviews'] = temp"
   ]
  },
  {
   "cell_type": "code",
   "execution_count": 8,
   "metadata": {},
   "outputs": [],
   "source": [
    "temp = gameSet['publisher'].values\n",
    "temp[21] = 'Team meat'\n",
    "gameSet['publisher'] = temp"
   ]
  },
  {
   "cell_type": "code",
   "execution_count": 9,
   "metadata": {},
   "outputs": [
    {
     "data": {
      "text/plain": [
       "(136, 20)"
      ]
     },
     "execution_count": 9,
     "metadata": {},
     "output_type": "execute_result"
    }
   ],
   "source": [
    "gameSet = gameSet[gameSet.genre.notnull()]\n",
    "gameSet = gameSet[gameSet.game_details.notnull()]\n",
    "gameSet = gameSet[gameSet.all_reviews.notnull()]\n",
    "gameSet = gameSet[gameSet.publisher.notnull()]\n",
    "gameSet.shape"
   ]
  },
  {
   "cell_type": "code",
   "execution_count": 10,
   "metadata": {},
   "outputs": [
    {
     "data": {
      "text/html": [
       "<div>\n",
       "<style scoped>\n",
       "    .dataframe tbody tr th:only-of-type {\n",
       "        vertical-align: middle;\n",
       "    }\n",
       "\n",
       "    .dataframe tbody tr th {\n",
       "        vertical-align: top;\n",
       "    }\n",
       "\n",
       "    .dataframe thead th {\n",
       "        text-align: right;\n",
       "    }\n",
       "</style>\n",
       "<table border=\"1\" class=\"dataframe\">\n",
       "  <thead>\n",
       "    <tr style=\"text-align: right;\">\n",
       "      <th></th>\n",
       "      <th>name</th>\n",
       "      <th>desc_snippet</th>\n",
       "      <th>genre</th>\n",
       "      <th>popular_tags</th>\n",
       "      <th>all_reviews</th>\n",
       "      <th>developer</th>\n",
       "      <th>publisher</th>\n",
       "    </tr>\n",
       "  </thead>\n",
       "  <tbody>\n",
       "    <tr>\n",
       "      <th>0</th>\n",
       "      <td>The Witcher® 3: Wild Hunt</td>\n",
       "      <td>As war rages on throughout the Northern Realms...</td>\n",
       "      <td>RPG</td>\n",
       "      <td>Open World,RPG,Story Rich,Atmospheric,Mature,F...</td>\n",
       "      <td>Overwhelmingly Positive,(189,538),- 97% of the...</td>\n",
       "      <td>CD PROJEKT RED</td>\n",
       "      <td>CD PROJEKT RED,CD PROJEKT RED</td>\n",
       "    </tr>\n",
       "    <tr>\n",
       "      <th>1</th>\n",
       "      <td>Half-Life</td>\n",
       "      <td>Named Game of the Year by over 50 publications...</td>\n",
       "      <td>Action</td>\n",
       "      <td>FPS,Classic,Action,Sci-fi,Singleplayer,Masterp...</td>\n",
       "      <td>Overwhelmingly Positive,(22,515),- 95% of the ...</td>\n",
       "      <td>Valve</td>\n",
       "      <td>Valve,Valve</td>\n",
       "    </tr>\n",
       "    <tr>\n",
       "      <th>2</th>\n",
       "      <td>Counter-Strike: Source</td>\n",
       "      <td>Just updated to include player stats, achievem...</td>\n",
       "      <td>Action</td>\n",
       "      <td>Shooter,Action,FPS,Multiplayer,Team-Based,Firs...</td>\n",
       "      <td>Overwhelmingly Positive,(45,829),- 95% of the ...</td>\n",
       "      <td>Valve</td>\n",
       "      <td>Valve,Valve</td>\n",
       "    </tr>\n",
       "    <tr>\n",
       "      <th>3</th>\n",
       "      <td>Half-Life 2: Episode Two</td>\n",
       "      <td>Half-Life® 2: Episode Two is the second in a t...</td>\n",
       "      <td>Action</td>\n",
       "      <td>FPS,Action,Sci-fi,Singleplayer,Shooter,Story R...</td>\n",
       "      <td>Overwhelmingly Positive,(10,894),- 95% of the ...</td>\n",
       "      <td>Valve</td>\n",
       "      <td>Valve,Valve</td>\n",
       "    </tr>\n",
       "    <tr>\n",
       "      <th>4</th>\n",
       "      <td>Portal 2</td>\n",
       "      <td>The \"Perpetual Testing Initiative\" has been ex...</td>\n",
       "      <td>Action,Adventure</td>\n",
       "      <td>Puzzle,Co-op,First-Person,Sci-fi,Comedy,Single...</td>\n",
       "      <td>Overwhelmingly Positive,(104,354),- 98% of the...</td>\n",
       "      <td>Valve</td>\n",
       "      <td>Valve,Valve</td>\n",
       "    </tr>\n",
       "  </tbody>\n",
       "</table>\n",
       "</div>"
      ],
      "text/plain": [
       "                        name  \\\n",
       "0  The Witcher® 3: Wild Hunt   \n",
       "1                  Half-Life   \n",
       "2     Counter-Strike: Source   \n",
       "3   Half-Life 2: Episode Two   \n",
       "4                   Portal 2   \n",
       "\n",
       "                                        desc_snippet             genre  \\\n",
       "0  As war rages on throughout the Northern Realms...               RPG   \n",
       "1  Named Game of the Year by over 50 publications...            Action   \n",
       "2  Just updated to include player stats, achievem...            Action   \n",
       "3  Half-Life® 2: Episode Two is the second in a t...            Action   \n",
       "4  The \"Perpetual Testing Initiative\" has been ex...  Action,Adventure   \n",
       "\n",
       "                                        popular_tags  \\\n",
       "0  Open World,RPG,Story Rich,Atmospheric,Mature,F...   \n",
       "1  FPS,Classic,Action,Sci-fi,Singleplayer,Masterp...   \n",
       "2  Shooter,Action,FPS,Multiplayer,Team-Based,Firs...   \n",
       "3  FPS,Action,Sci-fi,Singleplayer,Shooter,Story R...   \n",
       "4  Puzzle,Co-op,First-Person,Sci-fi,Comedy,Single...   \n",
       "\n",
       "                                         all_reviews       developer  \\\n",
       "0  Overwhelmingly Positive,(189,538),- 97% of the...  CD PROJEKT RED   \n",
       "1  Overwhelmingly Positive,(22,515),- 95% of the ...           Valve   \n",
       "2  Overwhelmingly Positive,(45,829),- 95% of the ...           Valve   \n",
       "3  Overwhelmingly Positive,(10,894),- 95% of the ...           Valve   \n",
       "4  Overwhelmingly Positive,(104,354),- 98% of the...           Valve   \n",
       "\n",
       "                       publisher  \n",
       "0  CD PROJEKT RED,CD PROJEKT RED  \n",
       "1                    Valve,Valve  \n",
       "2                    Valve,Valve  \n",
       "3                    Valve,Valve  \n",
       "4                    Valve,Valve  "
      ]
     },
     "execution_count": 10,
     "metadata": {},
     "output_type": "execute_result"
    }
   ],
   "source": [
    "gameSet = gameSet[['name','desc_snippet','genre','popular_tags','all_reviews','developer','publisher']]\n",
    "gameSet.head()"
   ]
  },
  {
   "cell_type": "code",
   "execution_count": 11,
   "metadata": {},
   "outputs": [],
   "source": [
    "names = gameSet.name.values\n",
    "idList = []\n",
    "for i in range(len(names)):\n",
    "    idList.append(user[user['name'] == names[i]].app_id.values[0])"
   ]
  },
  {
   "cell_type": "code",
   "execution_count": 12,
   "metadata": {},
   "outputs": [],
   "source": [
    "gameSet['app_id'] = idList"
   ]
  },
  {
   "cell_type": "code",
   "execution_count": 13,
   "metadata": {},
   "outputs": [],
   "source": [
    "def lowerCase(string):\n",
    "    return string.lower()\n",
    "\n",
    "def seg_depart(sentence):\n",
    "    return nltk.word_tokenize(sentence)\n",
    "\n",
    "def removeUrl(string):\n",
    "    url = re.findall('https?://(?:[-\\w.]|(?:%[\\da-fA-F]{2}))+', string)    \n",
    "    if len(url) > 0:\n",
    "        for i in range(len(url)):\n",
    "            string = string.replace(url[i],'')\n",
    "    return string\n",
    "        \n",
    "def remove_digits(input_str):\n",
    "    punc = u'0123456789.'\n",
    "    output_str = re.sub(r'[{}]+'.format(punc), '', input_str)\n",
    "    return output_str\n",
    "\n",
    "def move_stopwords(sentence_list, stopwords_list):\n",
    "    out_list = []\n",
    "    for word in sentence_list:\n",
    "        if word not in stopwords_list:\n",
    "            if not remove_digits(word):\n",
    "                continue\n",
    "            if word != '\\t':\n",
    "                out_list.append(word)\n",
    "    return out_list\n",
    "\n",
    "def cleanlines(line): \n",
    "    p4=re.compile(r'[\\s+\\.\\!\\/_,$%^*(+\\\"\\')]+|[+——()?【】“”！，。？、~@#￥%……&*（）0-9 , : ; \\-\\ \\[\\ \\]\\ ]')\n",
    "    line=p4.sub(r' ',str(line))    \n",
    "    return line\n",
    "\n",
    "\n",
    "def removeDuplicate(l1):\n",
    "    return list(set(l1))"
   ]
  },
  {
   "cell_type": "code",
   "execution_count": 14,
   "metadata": {},
   "outputs": [],
   "source": [
    "def isLengthOne(string):\n",
    "    return len(string) == 1\n",
    "\n",
    "def processInDetail(l1):\n",
    "    #rstr = r\"[\\=\\(\\)\\,\\/\\\\\\:\\*\\?\\\"\\<\\>\\|\\' ']\" \n",
    "    rstr = r\"[\\↦\\→\\=\\(\\)\\,\\/\\\\\\:\\*\\?\\\"\\<\\>\\|\\' ']\" \n",
    "    i = 0 \n",
    "    remove_list = ['xa','xd']\n",
    "    for word in l1:\n",
    "        i = i + 1\n",
    "        if isLengthOne(word):\n",
    "            remove_list.append(word)\n",
    "        if len(re.findall(rstr, word)) > 0:\n",
    "            remove_list.append(word)\n",
    "        #remove xa,xd\n",
    "  \n",
    "    return [i for i in l1 if i not in remove_list]"
   ]
  },
  {
   "cell_type": "code",
   "execution_count": 15,
   "metadata": {},
   "outputs": [],
   "source": [
    "def process(string):\n",
    "    sentence = removeUrl(string)\n",
    "    sentence = cleanlines(sentence)\n",
    "    sentence = lowerCase(sentence)\n",
    "    #print(sentence)\n",
    "    \n",
    "    sentence_depart = seg_depart(sentence)\n",
    "    \n",
    "    #print(sentence_depart)\n",
    "    sentence_depart = move_stopwords(sentence_depart, stopwords)\n",
    "    #print(sentence_depart)\n",
    "    return removeDuplicate(processInDetail(sentence_depart))"
   ]
  },
  {
   "cell_type": "code",
   "execution_count": 16,
   "metadata": {},
   "outputs": [],
   "source": [
    "processedList = []\n",
    "for i in range(len(gameSet)):\n",
    "    processedList.append(process(gameSet.iloc[i]['desc_snippet']))    "
   ]
  },
  {
   "cell_type": "code",
   "execution_count": 17,
   "metadata": {},
   "outputs": [
    {
     "data": {
      "text/plain": [
       "136"
      ]
     },
     "execution_count": 17,
     "metadata": {},
     "output_type": "execute_result"
    }
   ],
   "source": [
    "len(processedList)"
   ]
  },
  {
   "cell_type": "markdown",
   "metadata": {},
   "source": [
    "## 2.Feature engineering"
   ]
  },
  {
   "cell_type": "markdown",
   "metadata": {},
   "source": [
    "### Extract rating"
   ]
  },
  {
   "cell_type": "code",
   "execution_count": 18,
   "metadata": {},
   "outputs": [],
   "source": [
    "rating = []\n",
    "for i in gameSet.all_reviews.values:\n",
    "    try:\n",
    "        string = re.findall('\\d+%',i)[0].replace('%','')\n",
    "        rating.append(int(string))\n",
    "    except:\n",
    "        rating.append(0)"
   ]
  },
  {
   "cell_type": "markdown",
   "metadata": {},
   "source": [
    "### Pubilsher"
   ]
  },
  {
   "cell_type": "code",
   "execution_count": 19,
   "metadata": {},
   "outputs": [
    {
     "data": {
      "text/plain": [
       "101"
      ]
     },
     "execution_count": 19,
     "metadata": {},
     "output_type": "execute_result"
    }
   ],
   "source": [
    "len(list(set(gameSet.publisher.values)))"
   ]
  },
  {
   "cell_type": "code",
   "execution_count": 20,
   "metadata": {},
   "outputs": [
    {
     "data": {
      "text/plain": [
       "LabelEncoder()"
      ]
     },
     "execution_count": 20,
     "metadata": {},
     "output_type": "execute_result"
    }
   ],
   "source": [
    "le = preprocessing.LabelEncoder()\n",
    "le.fit(list(set(gameSet.publisher.values)))"
   ]
  },
  {
   "cell_type": "code",
   "execution_count": 21,
   "metadata": {},
   "outputs": [],
   "source": [
    "publisher = le.transform(gameSet.publisher.values)"
   ]
  },
  {
   "cell_type": "code",
   "execution_count": 22,
   "metadata": {},
   "outputs": [
    {
     "name": "stdout",
     "output_type": "stream",
     "text": [
      "101\n",
      "Epoch 1/20\n",
      "34/34 [==============================] - 1s 3ms/step - loss: 7375.4419 - accuracy: 0.0000e+00\n",
      "Epoch 2/20\n",
      "34/34 [==============================] - 0s 2ms/step - loss: 7313.9012 - accuracy: 0.0000e+00\n",
      "Epoch 3/20\n",
      "34/34 [==============================] - 0s 2ms/step - loss: 7461.2668 - accuracy: 0.0000e+00\n",
      "Epoch 4/20\n",
      "34/34 [==============================] - 0s 2ms/step - loss: 6727.0183 - accuracy: 0.0000e+00\n",
      "Epoch 5/20\n",
      "34/34 [==============================] - 0s 2ms/step - loss: 6368.9345 - accuracy: 0.0000e+00\n",
      "Epoch 6/20\n",
      "34/34 [==============================] - 0s 2ms/step - loss: 4422.4385 - accuracy: 0.0000e+00\n",
      "Epoch 7/20\n",
      "34/34 [==============================] - 0s 2ms/step - loss: 2108.1221 - accuracy: 0.0000e+00\n",
      "Epoch 8/20\n",
      "34/34 [==============================] - 0s 2ms/step - loss: 720.7311 - accuracy: 0.0000e+00\n",
      "Epoch 9/20\n",
      "34/34 [==============================] - 0s 2ms/step - loss: 324.9362 - accuracy: 0.0000e+00\n",
      "Epoch 10/20\n",
      "34/34 [==============================] - 0s 2ms/step - loss: 170.0083 - accuracy: 0.0000e+00\n",
      "Epoch 11/20\n",
      "34/34 [==============================] - 0s 2ms/step - loss: 55.5982 - accuracy: 0.0000e+00\n",
      "Epoch 12/20\n",
      "34/34 [==============================] - 0s 2ms/step - loss: 44.6336 - accuracy: 0.0000e+00\n",
      "Epoch 13/20\n",
      "34/34 [==============================] - 0s 2ms/step - loss: 39.3702 - accuracy: 0.0000e+00\n",
      "Epoch 14/20\n",
      "34/34 [==============================] - 0s 2ms/step - loss: 32.4920 - accuracy: 0.0000e+00\n",
      "Epoch 15/20\n",
      "34/34 [==============================] - 0s 2ms/step - loss: 30.9354 - accuracy: 0.0000e+00\n",
      "Epoch 16/20\n",
      "34/34 [==============================] - 0s 2ms/step - loss: 19.2693 - accuracy: 0.0000e+00\n",
      "Epoch 17/20\n",
      "34/34 [==============================] - 0s 2ms/step - loss: 25.8431 - accuracy: 0.0000e+00\n",
      "Epoch 18/20\n",
      "34/34 [==============================] - 0s 2ms/step - loss: 26.0988 - accuracy: 0.0000e+00\n",
      "Epoch 19/20\n",
      "34/34 [==============================] - 0s 2ms/step - loss: 27.5093 - accuracy: 0.0000e+00\n",
      "Epoch 20/20\n",
      "34/34 [==============================] - 0s 2ms/step - loss: 32.4527 - accuracy: 0.0000e+00\n"
     ]
    },
    {
     "data": {
      "text/plain": [
       "<tensorflow.python.keras.callbacks.History at 0x1681687e1f0>"
      ]
     },
     "execution_count": 22,
     "metadata": {},
     "output_type": "execute_result"
    }
   ],
   "source": [
    "publisher = np.array(publisher)\n",
    "input_dim = len(list(set(gameSet.publisher.values)))\n",
    "print(input_dim)\n",
    "\n",
    "embedding_size = 30\n",
    "model = Sequential()\n",
    "model.add(Embedding(input_dim = input_dim, output_dim = embedding_size, input_length = 1, name=\"embedding\"))\n",
    "model.add(Flatten())\n",
    "model.add(Dense(50, activation=\"relu\"))\n",
    "model.add(Dense(15, activation=\"relu\"))\n",
    "model.add(Dense(1))\n",
    "model.compile(loss = \"mse\", optimizer = \"adam\", metrics=[\"accuracy\"])\n",
    "model.fit(np.array(publisher), np.array(rating), epochs = 20, batch_size = 4)"
   ]
  },
  {
   "cell_type": "code",
   "execution_count": 23,
   "metadata": {},
   "outputs": [
    {
     "name": "stdout",
     "output_type": "stream",
     "text": [
      "Model: \"sequential\"\n",
      "_________________________________________________________________\n",
      "Layer (type)                 Output Shape              Param #   \n",
      "=================================================================\n",
      "embedding (Embedding)        (None, 1, 30)             3030      \n",
      "_________________________________________________________________\n",
      "flatten (Flatten)            (None, 30)                0         \n",
      "_________________________________________________________________\n",
      "dense (Dense)                (None, 50)                1550      \n",
      "_________________________________________________________________\n",
      "dense_1 (Dense)              (None, 15)                765       \n",
      "_________________________________________________________________\n",
      "dense_2 (Dense)              (None, 1)                 16        \n",
      "=================================================================\n",
      "Total params: 5,361\n",
      "Trainable params: 5,361\n",
      "Non-trainable params: 0\n",
      "_________________________________________________________________\n",
      "None\n"
     ]
    }
   ],
   "source": [
    "print(model.summary())"
   ]
  },
  {
   "cell_type": "code",
   "execution_count": 24,
   "metadata": {},
   "outputs": [],
   "source": [
    "embeddings = model.layers[0].get_weights()[0]"
   ]
  },
  {
   "cell_type": "code",
   "execution_count": 25,
   "metadata": {},
   "outputs": [],
   "source": [
    "publisher_embedding = []\n",
    "for i in range(len(publisher)):\n",
    "    publisher_embedding.append(embeddings[publisher[i]])"
   ]
  },
  {
   "cell_type": "markdown",
   "metadata": {},
   "source": [
    "### Popular tags"
   ]
  },
  {
   "cell_type": "code",
   "execution_count": 26,
   "metadata": {},
   "outputs": [],
   "source": [
    "tagList = []\n",
    "for tag in gameSet.popular_tags:\n",
    "    tagList.append([i.lower() for i in tag.split(',')])"
   ]
  },
  {
   "cell_type": "code",
   "execution_count": 27,
   "metadata": {},
   "outputs": [],
   "source": [
    "tag = []\n",
    "for i in tagList:\n",
    "    for j in i:\n",
    "        tag.append(j)"
   ]
  },
  {
   "cell_type": "code",
   "execution_count": 28,
   "metadata": {},
   "outputs": [
    {
     "data": {
      "text/plain": [
       "258"
      ]
     },
     "execution_count": 28,
     "metadata": {},
     "output_type": "execute_result"
    }
   ],
   "source": [
    "len(list(set(tag)))"
   ]
  },
  {
   "cell_type": "code",
   "execution_count": 29,
   "metadata": {},
   "outputs": [],
   "source": [
    "tag_corpus = sorted(list(set(tag)))"
   ]
  },
  {
   "cell_type": "code",
   "execution_count": 30,
   "metadata": {},
   "outputs": [],
   "source": [
    "tag_bow = []\n",
    "for l in tagList:\n",
    "    temp = np.zeros(len(tag_corpus))\n",
    "    for tag in l:\n",
    "        for j in range(len(tag_corpus)):\n",
    "            if tag == tag_corpus[j]:\n",
    "                temp[j] = temp[j] + 1\n",
    "    tag_bow.append(temp)    "
   ]
  },
  {
   "cell_type": "markdown",
   "metadata": {},
   "source": [
    "### Genre"
   ]
  },
  {
   "cell_type": "code",
   "execution_count": 31,
   "metadata": {},
   "outputs": [],
   "source": [
    "genreList = []\n",
    "for genre in gameSet.genre:\n",
    "    genreList.append([i.lower() for i in genre.split(',')])"
   ]
  },
  {
   "cell_type": "code",
   "execution_count": 32,
   "metadata": {},
   "outputs": [],
   "source": [
    "genre = []\n",
    "for i in genreList:\n",
    "    for j in i:\n",
    "        genre.append(j)"
   ]
  },
  {
   "cell_type": "code",
   "execution_count": 33,
   "metadata": {},
   "outputs": [
    {
     "data": {
      "text/plain": [
       "['action',\n",
       " 'adventure',\n",
       " 'animation & modeling',\n",
       " 'casual',\n",
       " 'design & illustration',\n",
       " 'early access',\n",
       " 'free to play',\n",
       " 'indie',\n",
       " 'massively multiplayer',\n",
       " 'racing',\n",
       " 'rpg',\n",
       " 'simulation',\n",
       " 'sports',\n",
       " 'strategy',\n",
       " 'utilities']"
      ]
     },
     "execution_count": 33,
     "metadata": {},
     "output_type": "execute_result"
    }
   ],
   "source": [
    "genre_corpus = sorted(list(set(genre)))\n",
    "genre_corpus"
   ]
  },
  {
   "cell_type": "code",
   "execution_count": 34,
   "metadata": {},
   "outputs": [],
   "source": [
    "genre_bow = []\n",
    "for l in genreList:\n",
    "    temp = np.zeros(len(genre_corpus))\n",
    "    for genre in l:\n",
    "        for j in range(len(genre_corpus)):\n",
    "            if genre == genre_corpus[j]:\n",
    "                temp[j] = temp[j] + 1\n",
    "    genre_bow.append(temp)    "
   ]
  },
  {
   "cell_type": "code",
   "execution_count": 35,
   "metadata": {},
   "outputs": [
    {
     "data": {
      "text/plain": [
       "136"
      ]
     },
     "execution_count": 35,
     "metadata": {},
     "output_type": "execute_result"
    }
   ],
   "source": [
    "len(genreList)"
   ]
  },
  {
   "cell_type": "markdown",
   "metadata": {},
   "source": [
    "### Word2vec"
   ]
  },
  {
   "cell_type": "code",
   "execution_count": 36,
   "metadata": {},
   "outputs": [],
   "source": [
    "df_description = df_original[df_original.game_description.notnull()]"
   ]
  },
  {
   "cell_type": "code",
   "execution_count": 37,
   "metadata": {},
   "outputs": [],
   "source": [
    "w2v_list = []\n",
    "for i in range(len(df_description)):\n",
    "    w2v_list.append(process(df_description.iloc[i]['game_description']))\n"
   ]
  },
  {
   "cell_type": "code",
   "execution_count": 38,
   "metadata": {},
   "outputs": [],
   "source": [
    "from gensim.models import word2vec \n",
    "w2v_model = word2vec.Word2Vec(w2v_list, size=250, window=5, min_count=2, workers=4)"
   ]
  },
  {
   "cell_type": "code",
   "execution_count": 39,
   "metadata": {},
   "outputs": [
    {
     "data": {
      "text/plain": [
       "[('devices', 0.9897649884223938),\n",
       " ('break', 0.9800118207931519),\n",
       " ('causes', 0.9788855910301208),\n",
       " ('cannons', 0.9785929918289185),\n",
       " ('powers', 0.9772711992263794),\n",
       " ('assume', 0.9771981239318848),\n",
       " ('places', 0.9767069220542908),\n",
       " ('forward', 0.9765629768371582),\n",
       " ('patience', 0.9754320383071899),\n",
       " ('worker', 0.9733378887176514)]"
      ]
     },
     "execution_count": 39,
     "metadata": {},
     "output_type": "execute_result"
    }
   ],
   "source": [
    "w2v_model.wv.most_similar('sandbox')"
   ]
  },
  {
   "cell_type": "markdown",
   "metadata": {},
   "source": [
    "### Vectorize the comments"
   ]
  },
  {
   "cell_type": "code",
   "execution_count": 40,
   "metadata": {},
   "outputs": [],
   "source": [
    "def get_contentVector(cutWords, word2vec_model):\n",
    "    vector_list = [word2vec_model.wv[k] for k in cutWords if k in word2vec_model]\n",
    "    contentVector = np.array(vector_list).mean(axis=0)\n",
    "    return contentVector"
   ]
  },
  {
   "cell_type": "code",
   "execution_count": 41,
   "metadata": {},
   "outputs": [
    {
     "name": "stderr",
     "output_type": "stream",
     "text": [
      "<ipython-input-40-fa8f9cd7daba>:2: DeprecationWarning: Call to deprecated `__contains__` (Method will be removed in 4.0.0, use self.wv.__contains__() instead).\n",
      "  vector_list = [word2vec_model.wv[k] for k in cutWords if k in word2vec_model]\n"
     ]
    }
   ],
   "source": [
    "import time\n",
    "startTime = time.time()\n",
    "contentVector_list = []\n",
    "for i in range(len(processedList)):\n",
    "    cutWords = processedList[i]\n",
    "    if (i+1) % 100000 == 0:\n",
    "        usedTime = time.time() - startTime\n",
    "        print('前%d篇文章内容表示成向量共花费%.2f秒' %(i+1, usedTime))\n",
    "    if len(cutWords) != 0:\n",
    "        contentVector_list.append(get_contentVector(cutWords, w2v_model))\n",
    "    else:\n",
    "        contentVector_list.append(get_contentVector(cutWords, w2v_model))\n",
    "X = np.array(contentVector_list)"
   ]
  },
  {
   "cell_type": "code",
   "execution_count": 42,
   "metadata": {},
   "outputs": [],
   "source": [
    "rl = []\n",
    "for i in range(len(X)):\n",
    "    if np.isnan(contentVector_list[i]).any():\n",
    "        rl.append(i)        "
   ]
  },
  {
   "cell_type": "code",
   "execution_count": 43,
   "metadata": {},
   "outputs": [
    {
     "name": "stdout",
     "output_type": "stream",
     "text": [
      "length of genre_bow is  136\n",
      "length of embeddings is  136\n",
      "length of X is  136\n"
     ]
    }
   ],
   "source": [
    "print('length of genre_bow is ',len(genre_bow))\n",
    "print('length of embeddings is ',len(publisher_embedding))\n",
    "print('length of X is ',len(X))"
   ]
  },
  {
   "cell_type": "code",
   "execution_count": 44,
   "metadata": {},
   "outputs": [],
   "source": [
    "combined = []\n",
    "total_size = len(genre_bow[0]) + len(publisher_embedding[0]) + len(X[0])\n",
    "for i in range(len(X)):\n",
    "    try:\n",
    "        combined.append(list(genre_bow[i]) + list(publisher_embedding[i]) + list(X[i]))\n",
    "    except:        \n",
    "        combined.append(total_size * [0])"
   ]
  },
  {
   "cell_type": "markdown",
   "metadata": {},
   "source": [
    "### Compute consine similarities"
   ]
  },
  {
   "cell_type": "code",
   "execution_count": 45,
   "metadata": {},
   "outputs": [],
   "source": [
    "def cossim(x,y):\n",
    "    d1=np.dot(x,y)/(np.linalg.norm(x)*np.linalg.norm(y))\n",
    "    return d1"
   ]
  },
  {
   "cell_type": "code",
   "execution_count": 46,
   "metadata": {},
   "outputs": [],
   "source": [
    "temp = []\n",
    "for j in range(len(combined)):\n",
    "    temp.append(cossim(combined[104],combined[j]))\n",
    "temp[104] = 0\n"
   ]
  },
  {
   "cell_type": "code",
   "execution_count": 47,
   "metadata": {},
   "outputs": [
    {
     "data": {
      "text/plain": [
       "array([132,  91,  94, 111, 106], dtype=int64)"
      ]
     },
     "execution_count": 47,
     "metadata": {},
     "output_type": "execute_result"
    }
   ],
   "source": [
    "np.array(temp).argsort()[-5:][::-1]"
   ]
  },
  {
   "cell_type": "code",
   "execution_count": 48,
   "metadata": {},
   "outputs": [
    {
     "data": {
      "text/plain": [
       "array([0.72667899, 0.70443735, 0.65757041, 0.65471731, 0.63630754])"
      ]
     },
     "execution_count": 48,
     "metadata": {},
     "output_type": "execute_result"
    }
   ],
   "source": [
    "np.sort(np.array(temp))[-5:][::-1]"
   ]
  },
  {
   "cell_type": "markdown",
   "metadata": {},
   "source": [
    "### Store the similarities in the matrix"
   ]
  },
  {
   "cell_type": "code",
   "execution_count": 49,
   "metadata": {},
   "outputs": [],
   "source": [
    "sim_result = [[0]*136 for i in range(136)]"
   ]
  },
  {
   "cell_type": "code",
   "execution_count": 50,
   "metadata": {},
   "outputs": [],
   "source": [
    "for i in range(len(combined)):\n",
    "    for j in range(len(combined)):\n",
    "        if i == j :\n",
    "            sim_result[i][j] = 0\n",
    "        else:\n",
    "            sim_result[i][j] = cossim(combined[i],combined[j])\n"
   ]
  },
  {
   "cell_type": "markdown",
   "metadata": {},
   "source": [
    "## 3.Recommend part"
   ]
  },
  {
   "cell_type": "code",
   "execution_count": 51,
   "metadata": {},
   "outputs": [],
   "source": [
    "df_re=pd.read_csv('steam_cleaned_less.csv',index_col=0)"
   ]
  },
  {
   "cell_type": "code",
   "execution_count": 52,
   "metadata": {},
   "outputs": [],
   "source": [
    "size_dict = df_re.groupby(['author.steamid']).size().to_dict()\n"
   ]
  },
  {
   "cell_type": "code",
   "execution_count": 53,
   "metadata": {},
   "outputs": [
    {
     "data": {
      "text/html": [
       "<div>\n",
       "<style scoped>\n",
       "    .dataframe tbody tr th:only-of-type {\n",
       "        vertical-align: middle;\n",
       "    }\n",
       "\n",
       "    .dataframe tbody tr th {\n",
       "        vertical-align: top;\n",
       "    }\n",
       "\n",
       "    .dataframe thead th {\n",
       "        text-align: right;\n",
       "    }\n",
       "</style>\n",
       "<table border=\"1\" class=\"dataframe\">\n",
       "  <thead>\n",
       "    <tr style=\"text-align: right;\">\n",
       "      <th></th>\n",
       "      <th>review_id</th>\n",
       "      <th>review</th>\n",
       "      <th>app_id</th>\n",
       "      <th>name</th>\n",
       "      <th>url</th>\n",
       "      <th>author.steamid</th>\n",
       "      <th>recommended</th>\n",
       "      <th>votes_helpful</th>\n",
       "      <th>votes_funny</th>\n",
       "      <th>weighted_vote_score</th>\n",
       "      <th>...</th>\n",
       "      <th>author.playtime_at_review</th>\n",
       "      <th>author.last_played</th>\n",
       "      <th>written_during_early_access</th>\n",
       "      <th>developer</th>\n",
       "      <th>desc_snippet</th>\n",
       "      <th>game_description</th>\n",
       "      <th>genre</th>\n",
       "      <th>popular_tags</th>\n",
       "      <th>game_details</th>\n",
       "      <th>languages</th>\n",
       "    </tr>\n",
       "  </thead>\n",
       "  <tbody>\n",
       "    <tr>\n",
       "      <th>0</th>\n",
       "      <td>8857737</td>\n",
       "      <td>Very good game and not demanding at all i like...</td>\n",
       "      <td>205100</td>\n",
       "      <td>Dishonored</td>\n",
       "      <td>https://store.steampowered.com/app/205100/Dish...</td>\n",
       "      <td>76561197960270613</td>\n",
       "      <td>True</td>\n",
       "      <td>0</td>\n",
       "      <td>0</td>\n",
       "      <td>0.000000</td>\n",
       "      <td>...</td>\n",
       "      <td>1860.0</td>\n",
       "      <td>1.390720e+09</td>\n",
       "      <td>False</td>\n",
       "      <td>Arkane Studios</td>\n",
       "      <td>Dishonored is an immersive first-person action...</td>\n",
       "      <td>About This Game Dishonored is an immersive fi...</td>\n",
       "      <td>Action,Adventure</td>\n",
       "      <td>Stealth,First-Person,Action,Steampunk,Assassin...</td>\n",
       "      <td>Single-player,Steam Achievements,Full controll...</td>\n",
       "      <td>English,German,French,Italian,Spanish - Spain</td>\n",
       "    </tr>\n",
       "    <tr>\n",
       "      <th>1</th>\n",
       "      <td>25581518</td>\n",
       "      <td>it will be time to say goodbye to earth soon a...</td>\n",
       "      <td>275850</td>\n",
       "      <td>No Man's Sky</td>\n",
       "      <td>https://store.steampowered.com/app/275850/No_M...</td>\n",
       "      <td>76561197960270613</td>\n",
       "      <td>True</td>\n",
       "      <td>1</td>\n",
       "      <td>0</td>\n",
       "      <td>0.519868</td>\n",
       "      <td>...</td>\n",
       "      <td>718.0</td>\n",
       "      <td>1.563156e+09</td>\n",
       "      <td>False</td>\n",
       "      <td>Hello Games</td>\n",
       "      <td>No Man's Sky is a game about exploration and s...</td>\n",
       "      <td>About This Game Inspired by the adventure and...</td>\n",
       "      <td>Action,Adventure</td>\n",
       "      <td>Open World,Space,Exploration,Sci-fi,First-Pers...</td>\n",
       "      <td>Single-player,Multi-player,Online Multi-Player...</td>\n",
       "      <td>English,French,Italian,German,Spanish - Spain,...</td>\n",
       "    </tr>\n",
       "    <tr>\n",
       "      <th>2</th>\n",
       "      <td>26131004</td>\n",
       "      <td>Just started playing this masterpiece</td>\n",
       "      <td>292030</td>\n",
       "      <td>The Witcher® 3: Wild Hunt</td>\n",
       "      <td>https://store.steampowered.com/app/292030/The_...</td>\n",
       "      <td>76561197960270613</td>\n",
       "      <td>True</td>\n",
       "      <td>5</td>\n",
       "      <td>0</td>\n",
       "      <td>0.536000</td>\n",
       "      <td>...</td>\n",
       "      <td>456.0</td>\n",
       "      <td>1.499520e+09</td>\n",
       "      <td>False</td>\n",
       "      <td>CD PROJEKT RED</td>\n",
       "      <td>As war rages on throughout the Northern Realms...</td>\n",
       "      <td>About This Game The Witcher: Wild Hunt is a s...</td>\n",
       "      <td>RPG</td>\n",
       "      <td>Open World,RPG,Story Rich,Atmospheric,Mature,F...</td>\n",
       "      <td>Single-player,Steam Achievements,Full controll...</td>\n",
       "      <td>English,French,Italian,German,Spanish - Spain,...</td>\n",
       "    </tr>\n",
       "    <tr>\n",
       "      <th>3</th>\n",
       "      <td>28354619</td>\n",
       "      <td>Bye Bye Infinite Warfare</td>\n",
       "      <td>292730</td>\n",
       "      <td>Call of Duty®: Infinite Warfare</td>\n",
       "      <td>https://store.steampowered.com/app/292730/Call...</td>\n",
       "      <td>76561197960270613</td>\n",
       "      <td>False</td>\n",
       "      <td>0</td>\n",
       "      <td>0</td>\n",
       "      <td>0.000000</td>\n",
       "      <td>...</td>\n",
       "      <td>3970.0</td>\n",
       "      <td>1.507938e+09</td>\n",
       "      <td>False</td>\n",
       "      <td>Infinity Ward</td>\n",
       "      <td>Infinite Warfare delivers three unique game mo...</td>\n",
       "      <td>About This Game  Includes the Terminal Bonus ...</td>\n",
       "      <td>Action,Adventure</td>\n",
       "      <td>Action,FPS,Multiplayer,Futuristic,Zombies,Spac...</td>\n",
       "      <td>Single-player,Online Multi-Player,Online Co-op...</td>\n",
       "      <td>English,French,Italian,German,Spanish - Spain,...</td>\n",
       "    </tr>\n",
       "    <tr>\n",
       "      <th>4</th>\n",
       "      <td>29066224</td>\n",
       "      <td>its fun and now supports multiplayer just buy it</td>\n",
       "      <td>225540</td>\n",
       "      <td>Just Cause™ 3</td>\n",
       "      <td>https://store.steampowered.com/app/225540/Just...</td>\n",
       "      <td>76561197960270613</td>\n",
       "      <td>True</td>\n",
       "      <td>2</td>\n",
       "      <td>0</td>\n",
       "      <td>0.513423</td>\n",
       "      <td>...</td>\n",
       "      <td>821.0</td>\n",
       "      <td>1.464981e+09</td>\n",
       "      <td>False</td>\n",
       "      <td>Avalanche Studios</td>\n",
       "      <td>With over 1000 km² of complete freedom from sk...</td>\n",
       "      <td>About This Game  The Mediterranean republic o...</td>\n",
       "      <td>Action,Adventure</td>\n",
       "      <td>Open World,Action,Destruction,Third-Person Sho...</td>\n",
       "      <td>Single-player,Steam Achievements,Full controll...</td>\n",
       "      <td>English,French,Italian,German,Spanish - Spain,...</td>\n",
       "    </tr>\n",
       "  </tbody>\n",
       "</table>\n",
       "<p>5 rows × 31 columns</p>\n",
       "</div>"
      ],
      "text/plain": [
       "   review_id                                             review  app_id  \\\n",
       "0    8857737  Very good game and not demanding at all i like...  205100   \n",
       "1   25581518  it will be time to say goodbye to earth soon a...  275850   \n",
       "2   26131004              Just started playing this masterpiece  292030   \n",
       "3   28354619                           Bye Bye Infinite Warfare  292730   \n",
       "4   29066224   its fun and now supports multiplayer just buy it  225540   \n",
       "\n",
       "                              name  \\\n",
       "0                       Dishonored   \n",
       "1                     No Man's Sky   \n",
       "2        The Witcher® 3: Wild Hunt   \n",
       "3  Call of Duty®: Infinite Warfare   \n",
       "4                    Just Cause™ 3   \n",
       "\n",
       "                                                 url     author.steamid  \\\n",
       "0  https://store.steampowered.com/app/205100/Dish...  76561197960270613   \n",
       "1  https://store.steampowered.com/app/275850/No_M...  76561197960270613   \n",
       "2  https://store.steampowered.com/app/292030/The_...  76561197960270613   \n",
       "3  https://store.steampowered.com/app/292730/Call...  76561197960270613   \n",
       "4  https://store.steampowered.com/app/225540/Just...  76561197960270613   \n",
       "\n",
       "   recommended  votes_helpful  votes_funny  weighted_vote_score  ...  \\\n",
       "0         True              0            0             0.000000  ...   \n",
       "1         True              1            0             0.519868  ...   \n",
       "2         True              5            0             0.536000  ...   \n",
       "3        False              0            0             0.000000  ...   \n",
       "4         True              2            0             0.513423  ...   \n",
       "\n",
       "   author.playtime_at_review author.last_played written_during_early_access  \\\n",
       "0                     1860.0       1.390720e+09                       False   \n",
       "1                      718.0       1.563156e+09                       False   \n",
       "2                      456.0       1.499520e+09                       False   \n",
       "3                     3970.0       1.507938e+09                       False   \n",
       "4                      821.0       1.464981e+09                       False   \n",
       "\n",
       "           developer                                       desc_snippet  \\\n",
       "0     Arkane Studios  Dishonored is an immersive first-person action...   \n",
       "1        Hello Games  No Man's Sky is a game about exploration and s...   \n",
       "2     CD PROJEKT RED  As war rages on throughout the Northern Realms...   \n",
       "3      Infinity Ward  Infinite Warfare delivers three unique game mo...   \n",
       "4  Avalanche Studios  With over 1000 km² of complete freedom from sk...   \n",
       "\n",
       "                                    game_description             genre  \\\n",
       "0   About This Game Dishonored is an immersive fi...  Action,Adventure   \n",
       "1   About This Game Inspired by the adventure and...  Action,Adventure   \n",
       "2   About This Game The Witcher: Wild Hunt is a s...               RPG   \n",
       "3   About This Game  Includes the Terminal Bonus ...  Action,Adventure   \n",
       "4   About This Game  The Mediterranean republic o...  Action,Adventure   \n",
       "\n",
       "                                        popular_tags  \\\n",
       "0  Stealth,First-Person,Action,Steampunk,Assassin...   \n",
       "1  Open World,Space,Exploration,Sci-fi,First-Pers...   \n",
       "2  Open World,RPG,Story Rich,Atmospheric,Mature,F...   \n",
       "3  Action,FPS,Multiplayer,Futuristic,Zombies,Spac...   \n",
       "4  Open World,Action,Destruction,Third-Person Sho...   \n",
       "\n",
       "                                        game_details  \\\n",
       "0  Single-player,Steam Achievements,Full controll...   \n",
       "1  Single-player,Multi-player,Online Multi-Player...   \n",
       "2  Single-player,Steam Achievements,Full controll...   \n",
       "3  Single-player,Online Multi-Player,Online Co-op...   \n",
       "4  Single-player,Steam Achievements,Full controll...   \n",
       "\n",
       "                                           languages  \n",
       "0      English,German,French,Italian,Spanish - Spain  \n",
       "1  English,French,Italian,German,Spanish - Spain,...  \n",
       "2  English,French,Italian,German,Spanish - Spain,...  \n",
       "3  English,French,Italian,German,Spanish - Spain,...  \n",
       "4  English,French,Italian,German,Spanish - Spain,...  \n",
       "\n",
       "[5 rows x 31 columns]"
      ]
     },
     "execution_count": 53,
     "metadata": {},
     "output_type": "execute_result"
    }
   ],
   "source": [
    "train_df=df_re.groupby(['author.steamid']).apply(lambda x : x.sort_values(by = 'datetime_created', ascending = True).head(round(len(x)*0.8))).reset_index(drop = True)\n",
    "train_df.head()"
   ]
  },
  {
   "cell_type": "code",
   "execution_count": 54,
   "metadata": {},
   "outputs": [],
   "source": [
    "test_df=df_re.groupby(['author.steamid']).apply(lambda x : x.sort_values(by = 'datetime_created', ascending = True).tail(round(len(x)*0.2))).reset_index(drop = True)"
   ]
  },
  {
   "cell_type": "code",
   "execution_count": 55,
   "metadata": {},
   "outputs": [],
   "source": [
    "train_set_userids = set(train_df['author.steamid'].unique())\n",
    "test_set_userids = set(test_df['author.steamid'].unique())\n",
    "matching_users = train_set_userids.intersection(test_set_userids) "
   ]
  },
  {
   "cell_type": "code",
   "execution_count": 56,
   "metadata": {},
   "outputs": [
    {
     "data": {
      "text/plain": [
       "10525"
      ]
     },
     "execution_count": 56,
     "metadata": {},
     "output_type": "execute_result"
    }
   ],
   "source": [
    "steamId = train_df['author.steamid'].unique()\n",
    "len(steamId) "
   ]
  },
  {
   "cell_type": "code",
   "execution_count": 57,
   "metadata": {},
   "outputs": [],
   "source": [
    "num_predict = {}\n",
    "for i in range(len(steamId)):\n",
    "    num_predict[str(steamId[i])] = len(test_df[test_df['author.steamid'] == steamId[i]].app_id)"
   ]
  },
  {
   "cell_type": "markdown",
   "metadata": {},
   "source": [
    "### Recommend algorithm"
   ]
  },
  {
   "cell_type": "code",
   "execution_count": 58,
   "metadata": {},
   "outputs": [],
   "source": [
    "def getGames(sid):\n",
    "    i = list(steamId).index(sid)\n",
    "    return train_df[train_df['author.steamid'] == steamId[i]].app_id.values"
   ]
  },
  {
   "cell_type": "code",
   "execution_count": 59,
   "metadata": {},
   "outputs": [],
   "source": [
    "def game_re(gameid,total,k):\n",
    "    temp = []\n",
    "    position = idList.index(gameid)\n",
    "    index = np.array(sim_result[position]).argsort()[::-1]\n",
    "    \n",
    "    value = np.sort(sim_result[position])[::-1]\n",
    "\n",
    "    for i in range(len(index)):\n",
    "        if index[i] not in total:\n",
    "            temp.append((idList[index[i]],value[i]))\n",
    "\n",
    "    return temp[:k]"
   ]
  },
  {
   "cell_type": "code",
   "execution_count": 60,
   "metadata": {},
   "outputs": [],
   "source": [
    "from collections import defaultdict\n",
    "def group_re(user_i,topn):\n",
    "    temp = []\n",
    "    total = getGames(steamId[user_i])\n",
    "\n",
    "    for game in total:\n",
    "        temp.append(game_re(game,total,topn))\n",
    "\n",
    "    subtotal = []\n",
    "    for re in temp:\n",
    "        for i in re:\n",
    "            subtotal.append(i[0])\n",
    "\n",
    "    subtotal = list(set(subtotal))\n",
    "    subtotal = dict.fromkeys(subtotal,0)\n",
    "\n",
    "    for re in temp:\n",
    "        for i in re:\n",
    "            subtotal[i[0]] = subtotal[i[0]] + i[1]\n",
    "    \n",
    "    big = []\n",
    "    for t in temp:\n",
    "        big = big + t\n",
    "\n",
    "    default_dict = defaultdict(int) \n",
    "\n",
    "    for user in big:\n",
    "        default_dict[user[0]] +=1\n",
    "\n",
    "    final_dict = {}\n",
    "    for key in list(default_dict.keys()):\n",
    "        final_dict[key] = [default_dict[key],subtotal[key]/default_dict[key]]\n",
    "\n",
    "    final_dict = sorted(final_dict.items(),key=lambda x:x[1],reverse=True)\n",
    "    result = []\n",
    "    \n",
    "    for i in final_dict[:topn]:\n",
    "        result.append(i[0])\n",
    "    return result"
   ]
  },
  {
   "cell_type": "markdown",
   "metadata": {},
   "source": [
    "### Make predictions on the test set"
   ]
  },
  {
   "cell_type": "code",
   "execution_count": 61,
   "metadata": {},
   "outputs": [],
   "source": [
    "predictions = []\n",
    "for i in range(len(test_set_userids)):\n",
    "    predictions.append(group_re(i,10))\n"
   ]
  },
  {
   "cell_type": "code",
   "execution_count": 62,
   "metadata": {},
   "outputs": [
    {
     "data": {
      "text/html": [
       "<div>\n",
       "<style scoped>\n",
       "    .dataframe tbody tr th:only-of-type {\n",
       "        vertical-align: middle;\n",
       "    }\n",
       "\n",
       "    .dataframe tbody tr th {\n",
       "        vertical-align: top;\n",
       "    }\n",
       "\n",
       "    .dataframe thead th {\n",
       "        text-align: right;\n",
       "    }\n",
       "</style>\n",
       "<table border=\"1\" class=\"dataframe\">\n",
       "  <thead>\n",
       "    <tr style=\"text-align: right;\">\n",
       "      <th></th>\n",
       "      <th>user_id</th>\n",
       "      <th>pred</th>\n",
       "    </tr>\n",
       "  </thead>\n",
       "  <tbody>\n",
       "    <tr>\n",
       "      <th>0</th>\n",
       "      <td>76561197982318596</td>\n",
       "      <td>[379430, 238320, 582010, 311690, 620, 264710, ...</td>\n",
       "    </tr>\n",
       "    <tr>\n",
       "      <th>1</th>\n",
       "      <td>76561198119616517</td>\n",
       "      <td>[582010, 379430, 638970, 312660, 214560, 26471...</td>\n",
       "    </tr>\n",
       "    <tr>\n",
       "      <th>2</th>\n",
       "      <td>76561197998571524</td>\n",
       "      <td>[379430, 485510, 268500, 638970, 418370, 25249...</td>\n",
       "    </tr>\n",
       "    <tr>\n",
       "      <th>3</th>\n",
       "      <td>76561198080851981</td>\n",
       "      <td>[312660, 204360, 214560, 379430, 264710, 23832...</td>\n",
       "    </tr>\n",
       "    <tr>\n",
       "      <th>4</th>\n",
       "      <td>76561198119649294</td>\n",
       "      <td>[582010, 582160, 214560, 620, 379430, 367520, ...</td>\n",
       "    </tr>\n",
       "    <tr>\n",
       "      <th>5</th>\n",
       "      <td>76561198323662866</td>\n",
       "      <td>[268910, 311690, 582010, 238320, 206190, 44782...</td>\n",
       "    </tr>\n",
       "    <tr>\n",
       "      <th>6</th>\n",
       "      <td>76561198067482644</td>\n",
       "      <td>[418370, 356190, 485510, 238320, 379430, 31169...</td>\n",
       "    </tr>\n",
       "    <tr>\n",
       "      <th>7</th>\n",
       "      <td>76561198118797332</td>\n",
       "      <td>[582010, 379430, 238460, 238320, 485510, 46093...</td>\n",
       "    </tr>\n",
       "    <tr>\n",
       "      <th>8</th>\n",
       "      <td>76561198187544599</td>\n",
       "      <td>[312660, 440900, 252490, 379430, 485510, 21456...</td>\n",
       "    </tr>\n",
       "    <tr>\n",
       "      <th>9</th>\n",
       "      <td>76561198121025570</td>\n",
       "      <td>[379430, 264710, 214560, 213670, 424840, 35619...</td>\n",
       "    </tr>\n",
       "  </tbody>\n",
       "</table>\n",
       "</div>"
      ],
      "text/plain": [
       "             user_id                                               pred\n",
       "0  76561197982318596  [379430, 238320, 582010, 311690, 620, 264710, ...\n",
       "1  76561198119616517  [582010, 379430, 638970, 312660, 214560, 26471...\n",
       "2  76561197998571524  [379430, 485510, 268500, 638970, 418370, 25249...\n",
       "3  76561198080851981  [312660, 204360, 214560, 379430, 264710, 23832...\n",
       "4  76561198119649294  [582010, 582160, 214560, 620, 379430, 367520, ...\n",
       "5  76561198323662866  [268910, 311690, 582010, 238320, 206190, 44782...\n",
       "6  76561198067482644  [418370, 356190, 485510, 238320, 379430, 31169...\n",
       "7  76561198118797332  [582010, 379430, 238460, 238320, 485510, 46093...\n",
       "8  76561198187544599  [312660, 440900, 252490, 379430, 485510, 21456...\n",
       "9  76561198121025570  [379430, 264710, 214560, 213670, 424840, 35619..."
      ]
     },
     "execution_count": 62,
     "metadata": {},
     "output_type": "execute_result"
    }
   ],
   "source": [
    "recommend = pd.DataFrame(matching_users,columns=['user_id'])\n",
    "recommend['pred'] = predictions\n",
    "recommend.head(10)"
   ]
  },
  {
   "cell_type": "markdown",
   "metadata": {},
   "source": [
    "## 4.Evaluation"
   ]
  },
  {
   "cell_type": "code",
   "execution_count": 105,
   "metadata": {},
   "outputs": [],
   "source": [
    "def indicators_5(rankedList, testList):\n",
    "    #rankedLlist: 预测的二维数组\n",
    "    #testList: test set的二维数组\n",
    "    #将传入两个数组的推荐人对应上，比如说rankedlist的第一个是user a，那么testList的第一个也要是user a\n",
    "    Hits_i = 0\n",
    "    Len_R = 0\n",
    "    Len_T = len(testList)\n",
    "    MRR_i = 0\n",
    "    HR_i = 0\n",
    "    HR_i2 = 0\n",
    "    NDCG_i = 0    \n",
    "    count = 0\n",
    "\n",
    "    for i in range(len(testList)):\n",
    "        for j in testList[i]:\n",
    "            count = count + 1\n",
    "    \n",
    "    for i in range(len(rankedList)):\n",
    "        for j in range(len(rankedList[i])):\n",
    "            for k in range(len(testList[i])):\n",
    "                if testList[i][k]==rankedList[i][j]:\n",
    "                    Hits_i+=1\n",
    "                    HR_i+=1\n",
    "                    HR_i2+=1\n",
    "                    MRR_i+=1/(j+1)   \n",
    "                    NDCG_i+=1/(math.log2(1+j+1))\n",
    "                    break\n",
    "    HR_i/=Len_T\n",
    "    HR_i2/=count\n",
    "    NDCG_i/=Hits_i\n",
    "    print(Hits_i)\n",
    "    print(f'HR_method1={HR_i}')\n",
    "    print(f'HR_method2={HR_i2}')\n",
    "    print(f'NDCG={NDCG_i}')\n"
   ]
  },
  {
   "cell_type": "code",
   "execution_count": 94,
   "metadata": {},
   "outputs": [],
   "source": [
    "test_list = []\n",
    "for i in test_set_userids:\n",
    "    test_list.append(test_df[test_df['author.steamid'] == i]['app_id'].tolist())"
   ]
  },
  {
   "cell_type": "code",
   "execution_count": 106,
   "metadata": {},
   "outputs": [
    {
     "name": "stdout",
     "output_type": "stream",
     "text": [
      "2993\n",
      "HR_method1=0.2843705463182898\n",
      "HR_method2=0.07298753871290267\n",
      "NDCG=0.45389041708731676\n"
     ]
    }
   ],
   "source": [
    "indicators_5(predictions,test_list)"
   ]
  }
 ],
 "metadata": {
  "kernelspec": {
   "display_name": "Python 3",
   "language": "python",
   "name": "python3"
  },
  "language_info": {
   "codemirror_mode": {
    "name": "ipython",
    "version": 3
   },
   "file_extension": ".py",
   "mimetype": "text/x-python",
   "name": "python",
   "nbconvert_exporter": "python",
   "pygments_lexer": "ipython3",
   "version": "3.8.3"
  }
 },
 "nbformat": 4,
 "nbformat_minor": 4
}
